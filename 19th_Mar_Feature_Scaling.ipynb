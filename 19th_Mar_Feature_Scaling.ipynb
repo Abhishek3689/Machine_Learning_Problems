{
 "cells": [
  {
   "cell_type": "markdown",
   "id": "bc5cad2b-7227-4033-a295-2f03f2943a2b",
   "metadata": {},
   "source": [
    "Q1. What is Min-Max scaling, and how is it used in data preprocessing? Provide an example to illustrate its\n",
    "application."
   ]
  },
  {
   "cell_type": "code",
   "execution_count": 1,
   "id": "c8c62c53-5d9b-4ee8-895e-fd8d0bef7652",
   "metadata": {},
   "outputs": [],
   "source": [
    "## Min_Max Scaling:it is the simplest method and consists of rescaling the range of features to scale the range in [0, 1]"
   ]
  },
  {
   "cell_type": "code",
   "execution_count": 2,
   "id": "c80c9a3f-cfa2-4650-b892-3f90b78c279c",
   "metadata": {},
   "outputs": [],
   "source": [
    "# Formula ,x'=(x-min(x))/(max(x)-min(x))"
   ]
  },
  {
   "cell_type": "code",
   "execution_count": 3,
   "id": "fcd8f4ce-932f-41e4-b104-04521f9a3a28",
   "metadata": {},
   "outputs": [],
   "source": [
    "## It is used for numerical variables and to avoid impact of any feature haivng high value in model builing to have equal weightage"
   ]
  },
  {
   "cell_type": "code",
   "execution_count": 4,
   "id": "591fde3b-a1ec-486c-bbae-278162d947dc",
   "metadata": {},
   "outputs": [],
   "source": [
    "import pandas as pd"
   ]
  },
  {
   "cell_type": "code",
   "execution_count": 5,
   "id": "d885cebd-a9dc-42d9-ac82-9210a4eca9ef",
   "metadata": {},
   "outputs": [],
   "source": [
    "df=pd.DataFrame({\"Roll_no\":[8,15,13,25,4],\"Student\":[\"Wasim\",\"Abhishek\",\"Dinesh\",\"Sainath\",\"Venkat\"],\"Marks\":[56,87,65,32,70]})"
   ]
  },
  {
   "cell_type": "code",
   "execution_count": 6,
   "id": "cf67f312-eb1d-4806-ae8f-f8ffb00d0386",
   "metadata": {},
   "outputs": [
    {
     "data": {
      "text/html": [
       "<div>\n",
       "<style scoped>\n",
       "    .dataframe tbody tr th:only-of-type {\n",
       "        vertical-align: middle;\n",
       "    }\n",
       "\n",
       "    .dataframe tbody tr th {\n",
       "        vertical-align: top;\n",
       "    }\n",
       "\n",
       "    .dataframe thead th {\n",
       "        text-align: right;\n",
       "    }\n",
       "</style>\n",
       "<table border=\"1\" class=\"dataframe\">\n",
       "  <thead>\n",
       "    <tr style=\"text-align: right;\">\n",
       "      <th></th>\n",
       "      <th>Roll_no</th>\n",
       "      <th>Student</th>\n",
       "      <th>Marks</th>\n",
       "    </tr>\n",
       "  </thead>\n",
       "  <tbody>\n",
       "    <tr>\n",
       "      <th>0</th>\n",
       "      <td>8</td>\n",
       "      <td>Wasim</td>\n",
       "      <td>56</td>\n",
       "    </tr>\n",
       "    <tr>\n",
       "      <th>1</th>\n",
       "      <td>15</td>\n",
       "      <td>Abhishek</td>\n",
       "      <td>87</td>\n",
       "    </tr>\n",
       "    <tr>\n",
       "      <th>2</th>\n",
       "      <td>13</td>\n",
       "      <td>Dinesh</td>\n",
       "      <td>65</td>\n",
       "    </tr>\n",
       "    <tr>\n",
       "      <th>3</th>\n",
       "      <td>25</td>\n",
       "      <td>Sainath</td>\n",
       "      <td>32</td>\n",
       "    </tr>\n",
       "    <tr>\n",
       "      <th>4</th>\n",
       "      <td>4</td>\n",
       "      <td>Venkat</td>\n",
       "      <td>70</td>\n",
       "    </tr>\n",
       "  </tbody>\n",
       "</table>\n",
       "</div>"
      ],
      "text/plain": [
       "   Roll_no   Student  Marks\n",
       "0        8     Wasim     56\n",
       "1       15  Abhishek     87\n",
       "2       13    Dinesh     65\n",
       "3       25   Sainath     32\n",
       "4        4    Venkat     70"
      ]
     },
     "execution_count": 6,
     "metadata": {},
     "output_type": "execute_result"
    }
   ],
   "source": [
    "df"
   ]
  },
  {
   "cell_type": "code",
   "execution_count": 7,
   "id": "a7d93c3b-d473-44fa-b168-f22911528776",
   "metadata": {},
   "outputs": [],
   "source": [
    "from sklearn.preprocessing import MinMaxScaler"
   ]
  },
  {
   "cell_type": "code",
   "execution_count": 8,
   "id": "084094a1-d1e6-4783-8b3c-716dde3299ed",
   "metadata": {},
   "outputs": [],
   "source": [
    "mn=MinMaxScaler()"
   ]
  },
  {
   "cell_type": "code",
   "execution_count": 9,
   "id": "94d18c33-449d-4d93-a051-df5725c5663e",
   "metadata": {},
   "outputs": [],
   "source": [
    "df_num=df[['Roll_no','Marks']]"
   ]
  },
  {
   "cell_type": "code",
   "execution_count": 10,
   "id": "849af9a1-ba52-4f57-9c35-1bb86c17fd48",
   "metadata": {},
   "outputs": [
    {
     "data": {
      "text/html": [
       "<div>\n",
       "<style scoped>\n",
       "    .dataframe tbody tr th:only-of-type {\n",
       "        vertical-align: middle;\n",
       "    }\n",
       "\n",
       "    .dataframe tbody tr th {\n",
       "        vertical-align: top;\n",
       "    }\n",
       "\n",
       "    .dataframe thead th {\n",
       "        text-align: right;\n",
       "    }\n",
       "</style>\n",
       "<table border=\"1\" class=\"dataframe\">\n",
       "  <thead>\n",
       "    <tr style=\"text-align: right;\">\n",
       "      <th></th>\n",
       "      <th>Roll_no</th>\n",
       "      <th>Marks</th>\n",
       "    </tr>\n",
       "  </thead>\n",
       "  <tbody>\n",
       "    <tr>\n",
       "      <th>0</th>\n",
       "      <td>8</td>\n",
       "      <td>56</td>\n",
       "    </tr>\n",
       "    <tr>\n",
       "      <th>1</th>\n",
       "      <td>15</td>\n",
       "      <td>87</td>\n",
       "    </tr>\n",
       "    <tr>\n",
       "      <th>2</th>\n",
       "      <td>13</td>\n",
       "      <td>65</td>\n",
       "    </tr>\n",
       "    <tr>\n",
       "      <th>3</th>\n",
       "      <td>25</td>\n",
       "      <td>32</td>\n",
       "    </tr>\n",
       "    <tr>\n",
       "      <th>4</th>\n",
       "      <td>4</td>\n",
       "      <td>70</td>\n",
       "    </tr>\n",
       "  </tbody>\n",
       "</table>\n",
       "</div>"
      ],
      "text/plain": [
       "   Roll_no  Marks\n",
       "0        8     56\n",
       "1       15     87\n",
       "2       13     65\n",
       "3       25     32\n",
       "4        4     70"
      ]
     },
     "execution_count": 10,
     "metadata": {},
     "output_type": "execute_result"
    }
   ],
   "source": [
    "df_num"
   ]
  },
  {
   "cell_type": "code",
   "execution_count": 11,
   "id": "6e4a887a-5767-4dac-8984-a2d3710ea39b",
   "metadata": {},
   "outputs": [],
   "source": [
    "df_scale=mn.fit_transform(df_num)"
   ]
  },
  {
   "cell_type": "code",
   "execution_count": 12,
   "id": "00308a8f-430a-421b-83c3-5380dd6e4c89",
   "metadata": {},
   "outputs": [
    {
     "data": {
      "text/plain": [
       "array([[0.19047619, 0.43636364],\n",
       "       [0.52380952, 1.        ],\n",
       "       [0.42857143, 0.6       ],\n",
       "       [1.        , 0.        ],\n",
       "       [0.        , 0.69090909]])"
      ]
     },
     "execution_count": 12,
     "metadata": {},
     "output_type": "execute_result"
    }
   ],
   "source": [
    "df_scale"
   ]
  },
  {
   "cell_type": "code",
   "execution_count": 13,
   "id": "b107bdbf-25b3-44fd-8ffa-50e79f04c19c",
   "metadata": {},
   "outputs": [],
   "source": [
    "df_scale_df=pd.DataFrame(df_scale,columns=df_num.columns)"
   ]
  },
  {
   "cell_type": "code",
   "execution_count": 14,
   "id": "307a1967-7d31-48be-b1c4-83877406a8e0",
   "metadata": {},
   "outputs": [
    {
     "data": {
      "text/html": [
       "<div>\n",
       "<style scoped>\n",
       "    .dataframe tbody tr th:only-of-type {\n",
       "        vertical-align: middle;\n",
       "    }\n",
       "\n",
       "    .dataframe tbody tr th {\n",
       "        vertical-align: top;\n",
       "    }\n",
       "\n",
       "    .dataframe thead th {\n",
       "        text-align: right;\n",
       "    }\n",
       "</style>\n",
       "<table border=\"1\" class=\"dataframe\">\n",
       "  <thead>\n",
       "    <tr style=\"text-align: right;\">\n",
       "      <th></th>\n",
       "      <th>Roll_no</th>\n",
       "      <th>Marks</th>\n",
       "    </tr>\n",
       "  </thead>\n",
       "  <tbody>\n",
       "    <tr>\n",
       "      <th>0</th>\n",
       "      <td>0.190476</td>\n",
       "      <td>0.436364</td>\n",
       "    </tr>\n",
       "    <tr>\n",
       "      <th>1</th>\n",
       "      <td>0.523810</td>\n",
       "      <td>1.000000</td>\n",
       "    </tr>\n",
       "    <tr>\n",
       "      <th>2</th>\n",
       "      <td>0.428571</td>\n",
       "      <td>0.600000</td>\n",
       "    </tr>\n",
       "    <tr>\n",
       "      <th>3</th>\n",
       "      <td>1.000000</td>\n",
       "      <td>0.000000</td>\n",
       "    </tr>\n",
       "    <tr>\n",
       "      <th>4</th>\n",
       "      <td>0.000000</td>\n",
       "      <td>0.690909</td>\n",
       "    </tr>\n",
       "  </tbody>\n",
       "</table>\n",
       "</div>"
      ],
      "text/plain": [
       "    Roll_no     Marks\n",
       "0  0.190476  0.436364\n",
       "1  0.523810  1.000000\n",
       "2  0.428571  0.600000\n",
       "3  1.000000  0.000000\n",
       "4  0.000000  0.690909"
      ]
     },
     "execution_count": 14,
     "metadata": {},
     "output_type": "execute_result"
    }
   ],
   "source": [
    "df_scale_df"
   ]
  },
  {
   "cell_type": "code",
   "execution_count": 15,
   "id": "5952e153-f685-434b-a2b3-d0a0f5091818",
   "metadata": {},
   "outputs": [],
   "source": [
    "## from above Marks ad roll no oare scale down in range(0-1)"
   ]
  },
  {
   "cell_type": "markdown",
   "id": "fd236ae0-333b-40ec-9ab8-0c8c3298c5b6",
   "metadata": {},
   "source": [
    "Q2. What is the Unit Vector technique in feature scaling, and how does it differ from Min-Max scaling?\n",
    "Provide an example to illustrate its application."
   ]
  },
  {
   "cell_type": "code",
   "execution_count": 16,
   "id": "55c55c65-bb93-4608-8093-ccef1c3b518a",
   "metadata": {},
   "outputs": [],
   "source": [
    "## Unit Vector:Scaling is done considering the whole feature vector to be of unit length. This usually means dividing each component by the Euclidean length of the vector (L2 Norm).\n"
   ]
  },
  {
   "cell_type": "code",
   "execution_count": 17,
   "id": "75166635-d9c0-49dd-ad68-1dc17dad6ad4",
   "metadata": {},
   "outputs": [],
   "source": [
    "## Like Min-Max Scaling, the Unit Vector technique produces values of range [0,1]. When dealing with features with hard boundaries, this is quite useful. \n",
    "## For example, when dealing with image data, the colors can range from only 0 to 255."
   ]
  },
  {
   "cell_type": "markdown",
   "id": "e8c91149-637c-4521-86f3-a9aabe2d4744",
   "metadata": {},
   "source": [
    "Q3. What is PCA (Principle Component Analysis), and how is it used in dimensionality reduction? Provide an\n",
    "example to illustrate its application."
   ]
  },
  {
   "cell_type": "code",
   "execution_count": 18,
   "id": "c420307f-0a24-4cbc-b265-29346bd238b2",
   "metadata": {},
   "outputs": [],
   "source": [
    "## PCA is a dimensionality reduction technique , where new dimension is created and maximum of  information  are captured in new dimension."
   ]
  },
  {
   "cell_type": "code",
   "execution_count": 19,
   "id": "68846592-cd71-4656-9ca2-5780bfdbd2be",
   "metadata": {},
   "outputs": [],
   "source": [
    "## The principal components are vectors, but they are not chosen at random.\n",
    "## The first principal component is computed so that it explains the greatest amount of variance in the original features.\n",
    "## The second component is orthogonal to the first i.e there is zero correlation between a pair of features,\n",
    "##vand it explains the greatest amount of variance left after the first principal component. "
   ]
  },
  {
   "cell_type": "code",
   "execution_count": 20,
   "id": "897f7c3a-64d8-4ca8-99e0-0f87a8ac289c",
   "metadata": {},
   "outputs": [],
   "source": [
    "## For example, let’s say there is a dataset with 10 features and we apply PCA to it. So we get 10 PCs, but the PCA algorithm puts maximum information into the 1st PC \n",
    "## and then remains to the 2nd PC and so on. We sort the PCs in the descending order of their EigenVectors .\n",
    "## In this way, we organize information into the form of Principal Components thus allowing us to reduce the number of features without losing too much data.\n",
    "## So we discard the features that have less variance and consider the new variables which have high variance."
   ]
  },
  {
   "cell_type": "markdown",
   "id": "df3da19f-5fa0-4be8-8f27-aa25720a75ae",
   "metadata": {},
   "source": [
    "Q4. What is the relationship between PCA and Feature Extraction, and how can PCA be used for Feature\n",
    "Extraction? Provide an example to illustrate this concept."
   ]
  },
  {
   "cell_type": "code",
   "execution_count": 21,
   "id": "068a957e-4df2-436a-aa8c-81db126b4b28",
   "metadata": {},
   "outputs": [],
   "source": [
    "## Feature extraction is a process of dimensionality reduction \n",
    "## by which an initial set of raw data is reduced to more manageable groups for processing.\n",
    "## I is helpful in extracting important features from the data"
   ]
  },
  {
   "cell_type": "code",
   "execution_count": 22,
   "id": "d9771915-3880-4476-8bfc-36c86f3a9523",
   "metadata": {},
   "outputs": [],
   "source": [
    "## PCA is one of the technique under Feature Exraction. AS Explained in above example how PCA is used for feature Extraction"
   ]
  },
  {
   "cell_type": "markdown",
   "id": "3d999008-3ea7-4a2e-bc08-b9b0c55daf10",
   "metadata": {},
   "source": [
    "Q5. You are working on a project to build a recommendation system for a food delivery service. The dataset\n",
    "contains features such as price, rating, and delivery time. Explain how you would use Min-Max scaling to\n",
    "preprocess the data."
   ]
  },
  {
   "cell_type": "code",
   "execution_count": 23,
   "id": "f1766011-5e66-4077-b684-b0801f609363",
   "metadata": {},
   "outputs": [],
   "source": [
    "from sklearn.preprocessing import MinMaxScaler"
   ]
  },
  {
   "cell_type": "code",
   "execution_count": 24,
   "id": "3aae7d9c-e92c-4980-8f2c-e810010c7166",
   "metadata": {},
   "outputs": [],
   "source": [
    "mn=MinMaxScaler()"
   ]
  },
  {
   "cell_type": "code",
   "execution_count": 25,
   "id": "7e385625-6e7f-4dcf-b1fc-033581370bbd",
   "metadata": {},
   "outputs": [],
   "source": [
    "df_recommend=pd.DataFrame({\"Price\":[3000,450,15000,900],\"Rating\":[4,3,5,2],\"Delivery_Time\":[2,3,1,5]})"
   ]
  },
  {
   "cell_type": "code",
   "execution_count": 26,
   "id": "5287fb72-8d70-40d2-8148-863c191d55f8",
   "metadata": {},
   "outputs": [
    {
     "data": {
      "text/html": [
       "<div>\n",
       "<style scoped>\n",
       "    .dataframe tbody tr th:only-of-type {\n",
       "        vertical-align: middle;\n",
       "    }\n",
       "\n",
       "    .dataframe tbody tr th {\n",
       "        vertical-align: top;\n",
       "    }\n",
       "\n",
       "    .dataframe thead th {\n",
       "        text-align: right;\n",
       "    }\n",
       "</style>\n",
       "<table border=\"1\" class=\"dataframe\">\n",
       "  <thead>\n",
       "    <tr style=\"text-align: right;\">\n",
       "      <th></th>\n",
       "      <th>Price</th>\n",
       "      <th>Rating</th>\n",
       "      <th>Delivery_Time</th>\n",
       "    </tr>\n",
       "  </thead>\n",
       "  <tbody>\n",
       "    <tr>\n",
       "      <th>0</th>\n",
       "      <td>3000</td>\n",
       "      <td>4</td>\n",
       "      <td>2</td>\n",
       "    </tr>\n",
       "    <tr>\n",
       "      <th>1</th>\n",
       "      <td>450</td>\n",
       "      <td>3</td>\n",
       "      <td>3</td>\n",
       "    </tr>\n",
       "    <tr>\n",
       "      <th>2</th>\n",
       "      <td>15000</td>\n",
       "      <td>5</td>\n",
       "      <td>1</td>\n",
       "    </tr>\n",
       "    <tr>\n",
       "      <th>3</th>\n",
       "      <td>900</td>\n",
       "      <td>2</td>\n",
       "      <td>5</td>\n",
       "    </tr>\n",
       "  </tbody>\n",
       "</table>\n",
       "</div>"
      ],
      "text/plain": [
       "   Price  Rating  Delivery_Time\n",
       "0   3000       4              2\n",
       "1    450       3              3\n",
       "2  15000       5              1\n",
       "3    900       2              5"
      ]
     },
     "execution_count": 26,
     "metadata": {},
     "output_type": "execute_result"
    }
   ],
   "source": [
    "df_recommend"
   ]
  },
  {
   "cell_type": "code",
   "execution_count": 27,
   "id": "b223a089-1376-40bd-b915-713f50b4b554",
   "metadata": {},
   "outputs": [],
   "source": [
    "df_recommend_scale=mn.fit_transform(df_recommend)"
   ]
  },
  {
   "cell_type": "code",
   "execution_count": 28,
   "id": "bf12a04b-6710-49b4-8184-8e559c3b1d77",
   "metadata": {},
   "outputs": [
    {
     "data": {
      "text/plain": [
       "array([[0.17525773, 0.66666667, 0.25      ],\n",
       "       [0.        , 0.33333333, 0.5       ],\n",
       "       [1.        , 1.        , 0.        ],\n",
       "       [0.03092784, 0.        , 1.        ]])"
      ]
     },
     "execution_count": 28,
     "metadata": {},
     "output_type": "execute_result"
    }
   ],
   "source": [
    "df_recommend_scale"
   ]
  },
  {
   "cell_type": "code",
   "execution_count": 29,
   "id": "3dc87a6e-63b7-44c9-90c7-370b94f9409e",
   "metadata": {},
   "outputs": [],
   "source": [
    "recommend_df=pd.DataFrame(df_recommend_scale,columns=df_recommend.columns)"
   ]
  },
  {
   "cell_type": "code",
   "execution_count": 30,
   "id": "fb558ecb-33ff-4e16-8d6e-8ae91cc550d0",
   "metadata": {},
   "outputs": [
    {
     "data": {
      "text/html": [
       "<div>\n",
       "<style scoped>\n",
       "    .dataframe tbody tr th:only-of-type {\n",
       "        vertical-align: middle;\n",
       "    }\n",
       "\n",
       "    .dataframe tbody tr th {\n",
       "        vertical-align: top;\n",
       "    }\n",
       "\n",
       "    .dataframe thead th {\n",
       "        text-align: right;\n",
       "    }\n",
       "</style>\n",
       "<table border=\"1\" class=\"dataframe\">\n",
       "  <thead>\n",
       "    <tr style=\"text-align: right;\">\n",
       "      <th></th>\n",
       "      <th>Price</th>\n",
       "      <th>Rating</th>\n",
       "      <th>Delivery_Time</th>\n",
       "    </tr>\n",
       "  </thead>\n",
       "  <tbody>\n",
       "    <tr>\n",
       "      <th>0</th>\n",
       "      <td>0.175258</td>\n",
       "      <td>0.666667</td>\n",
       "      <td>0.25</td>\n",
       "    </tr>\n",
       "    <tr>\n",
       "      <th>1</th>\n",
       "      <td>0.000000</td>\n",
       "      <td>0.333333</td>\n",
       "      <td>0.50</td>\n",
       "    </tr>\n",
       "    <tr>\n",
       "      <th>2</th>\n",
       "      <td>1.000000</td>\n",
       "      <td>1.000000</td>\n",
       "      <td>0.00</td>\n",
       "    </tr>\n",
       "    <tr>\n",
       "      <th>3</th>\n",
       "      <td>0.030928</td>\n",
       "      <td>0.000000</td>\n",
       "      <td>1.00</td>\n",
       "    </tr>\n",
       "  </tbody>\n",
       "</table>\n",
       "</div>"
      ],
      "text/plain": [
       "      Price    Rating  Delivery_Time\n",
       "0  0.175258  0.666667           0.25\n",
       "1  0.000000  0.333333           0.50\n",
       "2  1.000000  1.000000           0.00\n",
       "3  0.030928  0.000000           1.00"
      ]
     },
     "execution_count": 30,
     "metadata": {},
     "output_type": "execute_result"
    }
   ],
   "source": [
    "recommend_df"
   ]
  },
  {
   "cell_type": "markdown",
   "id": "beff20c2-fadf-4d1c-b4c3-96241541fc71",
   "metadata": {},
   "source": [
    "Q6. You are working on a project to build a model to predict stock prices. The dataset contains many\n",
    "features, such as company financial data and market trends. Explain how you would use PCA to reduce the\n",
    "dimensionality of the dataset."
   ]
  },
  {
   "cell_type": "code",
   "execution_count": 31,
   "id": "2aa08501-9399-44fd-9c69-0fc098978aa8",
   "metadata": {},
   "outputs": [],
   "source": [
    "## First import PCA"
   ]
  },
  {
   "cell_type": "code",
   "execution_count": 32,
   "id": "c14ae22c-ef73-49c6-b291-2091753ade16",
   "metadata": {},
   "outputs": [],
   "source": [
    "from sklearn.decomposition import PCA"
   ]
  },
  {
   "cell_type": "code",
   "execution_count": 33,
   "id": "b63c0705-a49c-4475-90af-a8e26004278f",
   "metadata": {},
   "outputs": [],
   "source": [
    "## we will initialise pur PCA with no of coponenst lets say 2"
   ]
  },
  {
   "cell_type": "code",
   "execution_count": 34,
   "id": "6d360916-0dd7-46c6-9beb-3cc1d4f08fd0",
   "metadata": {},
   "outputs": [],
   "source": [
    "pca=PCA(2)"
   ]
  },
  {
   "cell_type": "code",
   "execution_count": 35,
   "id": "623b067c-a48f-4462-b313-9259eab10a98",
   "metadata": {},
   "outputs": [],
   "source": [
    "## Then we will fit out data(X) using : pca.fit(X)"
   ]
  },
  {
   "cell_type": "code",
   "execution_count": 36,
   "id": "84ecd090-3391-462a-bc40-4814be5d6997",
   "metadata": {},
   "outputs": [],
   "source": [
    "## print(pca.explained_variance_ratio_) will give pc1 and pc2 components and give how much variance is captured by them"
   ]
  },
  {
   "cell_type": "code",
   "execution_count": 37,
   "id": "f3b5d3e6-4135-4d3f-8394-94201c5690cb",
   "metadata": {},
   "outputs": [],
   "source": [
    "## if  maximum of variacne is captured by tthe first and 2nd compnenent then we can use this to build model"
   ]
  },
  {
   "cell_type": "code",
   "execution_count": null,
   "id": "86d974a6-243c-41e1-886e-444ce0402566",
   "metadata": {},
   "outputs": [],
   "source": []
  },
  {
   "cell_type": "markdown",
   "id": "bfc1e430-c1cd-4b61-8767-12baa9150e11",
   "metadata": {},
   "source": [
    "Q7. For a dataset containing the following values: [1, 5, 10, 15, 20], perform Min-Max scaling to transform the\n",
    "values to a range of -1 to 1."
   ]
  },
  {
   "cell_type": "code",
   "execution_count": 38,
   "id": "14e19151-fd20-40a0-8ed8-13f7b7eccf03",
   "metadata": {},
   "outputs": [],
   "source": [
    "x=[1, 5, 10, 15, 20]"
   ]
  },
  {
   "cell_type": "code",
   "execution_count": 39,
   "id": "19ec7e77-756f-4e4f-92e5-db84fcac06cf",
   "metadata": {},
   "outputs": [],
   "source": [
    "df_new=pd.DataFrame(x)"
   ]
  },
  {
   "cell_type": "code",
   "execution_count": 40,
   "id": "7c50dc55-b6e9-4c38-a565-2ecde6950959",
   "metadata": {},
   "outputs": [
    {
     "data": {
      "text/html": [
       "<div>\n",
       "<style scoped>\n",
       "    .dataframe tbody tr th:only-of-type {\n",
       "        vertical-align: middle;\n",
       "    }\n",
       "\n",
       "    .dataframe tbody tr th {\n",
       "        vertical-align: top;\n",
       "    }\n",
       "\n",
       "    .dataframe thead th {\n",
       "        text-align: right;\n",
       "    }\n",
       "</style>\n",
       "<table border=\"1\" class=\"dataframe\">\n",
       "  <thead>\n",
       "    <tr style=\"text-align: right;\">\n",
       "      <th></th>\n",
       "      <th>0</th>\n",
       "    </tr>\n",
       "  </thead>\n",
       "  <tbody>\n",
       "    <tr>\n",
       "      <th>0</th>\n",
       "      <td>1</td>\n",
       "    </tr>\n",
       "    <tr>\n",
       "      <th>1</th>\n",
       "      <td>5</td>\n",
       "    </tr>\n",
       "    <tr>\n",
       "      <th>2</th>\n",
       "      <td>10</td>\n",
       "    </tr>\n",
       "    <tr>\n",
       "      <th>3</th>\n",
       "      <td>15</td>\n",
       "    </tr>\n",
       "    <tr>\n",
       "      <th>4</th>\n",
       "      <td>20</td>\n",
       "    </tr>\n",
       "  </tbody>\n",
       "</table>\n",
       "</div>"
      ],
      "text/plain": [
       "    0\n",
       "0   1\n",
       "1   5\n",
       "2  10\n",
       "3  15\n",
       "4  20"
      ]
     },
     "execution_count": 40,
     "metadata": {},
     "output_type": "execute_result"
    }
   ],
   "source": [
    "df_new"
   ]
  },
  {
   "cell_type": "code",
   "execution_count": 41,
   "id": "cc3473c6-ba16-481e-9b93-9398216d2239",
   "metadata": {},
   "outputs": [],
   "source": [
    "from sklearn.preprocessing import MinMaxScaler"
   ]
  },
  {
   "cell_type": "code",
   "execution_count": 42,
   "id": "52c11f80-5585-4ba5-aac6-f91c640fb355",
   "metadata": {},
   "outputs": [],
   "source": [
    "mn=MinMaxScaler()"
   ]
  },
  {
   "cell_type": "code",
   "execution_count": 43,
   "id": "c786dd45-6592-4e35-9711-cef7a6e349d1",
   "metadata": {},
   "outputs": [],
   "source": [
    "x_scale=mn.fit_transform(df_new)"
   ]
  },
  {
   "cell_type": "code",
   "execution_count": 44,
   "id": "380e55ca-2188-41cd-85cb-82a40a698b3f",
   "metadata": {},
   "outputs": [
    {
     "data": {
      "text/plain": [
       "array([[0.        ],\n",
       "       [0.21052632],\n",
       "       [0.47368421],\n",
       "       [0.73684211],\n",
       "       [1.        ]])"
      ]
     },
     "execution_count": 44,
     "metadata": {},
     "output_type": "execute_result"
    }
   ],
   "source": [
    "x_scale"
   ]
  },
  {
   "cell_type": "code",
   "execution_count": 45,
   "id": "5135f57d-5674-407d-8fa6-0c9198c3425a",
   "metadata": {},
   "outputs": [],
   "source": [
    "df_X=pd.DataFrame(x_scale)"
   ]
  },
  {
   "cell_type": "code",
   "execution_count": 46,
   "id": "403810bf-6c5a-4444-ab14-e51a0b12caed",
   "metadata": {},
   "outputs": [
    {
     "data": {
      "text/html": [
       "<div>\n",
       "<style scoped>\n",
       "    .dataframe tbody tr th:only-of-type {\n",
       "        vertical-align: middle;\n",
       "    }\n",
       "\n",
       "    .dataframe tbody tr th {\n",
       "        vertical-align: top;\n",
       "    }\n",
       "\n",
       "    .dataframe thead th {\n",
       "        text-align: right;\n",
       "    }\n",
       "</style>\n",
       "<table border=\"1\" class=\"dataframe\">\n",
       "  <thead>\n",
       "    <tr style=\"text-align: right;\">\n",
       "      <th></th>\n",
       "      <th>0</th>\n",
       "    </tr>\n",
       "  </thead>\n",
       "  <tbody>\n",
       "    <tr>\n",
       "      <th>0</th>\n",
       "      <td>0.000000</td>\n",
       "    </tr>\n",
       "    <tr>\n",
       "      <th>1</th>\n",
       "      <td>0.210526</td>\n",
       "    </tr>\n",
       "    <tr>\n",
       "      <th>2</th>\n",
       "      <td>0.473684</td>\n",
       "    </tr>\n",
       "    <tr>\n",
       "      <th>3</th>\n",
       "      <td>0.736842</td>\n",
       "    </tr>\n",
       "    <tr>\n",
       "      <th>4</th>\n",
       "      <td>1.000000</td>\n",
       "    </tr>\n",
       "  </tbody>\n",
       "</table>\n",
       "</div>"
      ],
      "text/plain": [
       "          0\n",
       "0  0.000000\n",
       "1  0.210526\n",
       "2  0.473684\n",
       "3  0.736842\n",
       "4  1.000000"
      ]
     },
     "execution_count": 46,
     "metadata": {},
     "output_type": "execute_result"
    }
   ],
   "source": [
    "df_X"
   ]
  },
  {
   "cell_type": "markdown",
   "id": "3b5089ae-e30b-4e67-ab7a-e1384c346f1e",
   "metadata": {},
   "source": [
    "Q8. For a dataset containing the following features: [height, weight, age, gender, blood pressure], perform\n",
    "Feature Extraction using PCA. How many principal components would you choose to retain, and why?"
   ]
  },
  {
   "cell_type": "code",
   "execution_count": 47,
   "id": "7c5eac83-df3e-483c-ae5a-f9834f2d9504",
   "metadata": {},
   "outputs": [],
   "source": [
    "## There are 5 varialbes  out of which 4 are numercial and 1 variable gender is categorcical. we can convert gender ino binary encoding(0 and 1)."
   ]
  },
  {
   "cell_type": "code",
   "execution_count": 48,
   "id": "7d47ddd3-d7b4-466f-b594-4750d55f07d3",
   "metadata": {},
   "outputs": [],
   "source": [
    "## since now 5  feautres I will initialise PCA with 4 components first."
   ]
  },
  {
   "cell_type": "code",
   "execution_count": 49,
   "id": "2f3dc76c-c6e7-4818-9138-e7995e09ceb6",
   "metadata": {},
   "outputs": [],
   "source": [
    "## We will fit out data using this PCA"
   ]
  },
  {
   "cell_type": "code",
   "execution_count": 50,
   "id": "1b26dbe4-fa2d-4912-8783-9b23f1a7b0b3",
   "metadata": {},
   "outputs": [],
   "source": [
    "## Will check the explained_Variance_Ratio of PC components"
   ]
  },
  {
   "cell_type": "code",
   "execution_count": 51,
   "id": "8eeb1771-89b4-4aa0-8ef8-37a3f17e01f8",
   "metadata": {},
   "outputs": [],
   "source": [
    "## we will see how much is he variance captured by each component if only first contains more than 90% and other are less than 1 % we can choose only first component"
   ]
  },
  {
   "cell_type": "code",
   "execution_count": null,
   "id": "8ca1a050-9ca9-4182-91cb-d1003865ea31",
   "metadata": {},
   "outputs": [],
   "source": []
  },
  {
   "cell_type": "code",
   "execution_count": null,
   "id": "f31cee71-45be-4963-9a71-c6b0a0dca59b",
   "metadata": {},
   "outputs": [],
   "source": []
  }
 ],
 "metadata": {
  "kernelspec": {
   "display_name": "Python 3 (ipykernel)",
   "language": "python",
   "name": "python3"
  },
  "language_info": {
   "codemirror_mode": {
    "name": "ipython",
    "version": 3
   },
   "file_extension": ".py",
   "mimetype": "text/x-python",
   "name": "python",
   "nbconvert_exporter": "python",
   "pygments_lexer": "ipython3",
   "version": "3.10.8"
  }
 },
 "nbformat": 4,
 "nbformat_minor": 5
}
