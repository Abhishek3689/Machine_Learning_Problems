{
 "cells": [
  {
   "cell_type": "markdown",
   "id": "924e8395-77d4-49ce-bf32-4cc13db37292",
   "metadata": {},
   "source": [
    "Q1. What are the key steps involved in building an end-to-end web application, from development to\n",
    "deployment on the cloud?"
   ]
  },
  {
   "cell_type": "code",
   "execution_count": 1,
   "id": "74f3911f-7f4a-46df-bd3e-b8c9bce15b71",
   "metadata": {},
   "outputs": [],
   "source": [
    "## Steps involved in Building End to End Web Application\n"
   ]
  },
  {
   "cell_type": "code",
   "execution_count": 2,
   "id": "dfa226af-dfd1-4315-8fe0-e70938e6560c",
   "metadata": {},
   "outputs": [],
   "source": [
    "## 1.Data Collection and Preprocessing: \n",
    "## 2.EDA\n",
    "## 3.Feature Engineering\n",
    "## 4.Model Training\n",
    "## 5.Model Evaluation\n",
    "## 6.Application Building using Flask\n",
    "## 7.Deployment in aws,azure or GCP"
   ]
  },
  {
   "cell_type": "markdown",
   "id": "55ab2cfa-30c4-4a8a-a3a9-f69243779765",
   "metadata": {},
   "source": [
    "Q2. Explain the difference between traditional web hosting and cloud hosting."
   ]
  },
  {
   "cell_type": "code",
   "execution_count": 3,
   "id": "5e12966d-fd76-44ea-9fc7-42273c36a0aa",
   "metadata": {},
   "outputs": [],
   "source": [
    "## Traditional web hosting typically involves renting or purchasing a dedicated server from a hosting company and using that server to host your website. \n",
    "## The server is physically located in a data center, and you have full control over its configuration and resources. \n",
    "## This type of hosting is often used for large, complex websites with high traffic volumes."
   ]
  },
  {
   "cell_type": "code",
   "execution_count": 4,
   "id": "e765163f-3f36-48f2-916b-554b7de3162e",
   "metadata": {},
   "outputs": [],
   "source": [
    "## Cloud hosting, on the other hand, is a more flexible and scalable type of hosting that involves using a network of virtual servers hosted in the cloud. \n",
    "## Rather than relying on a single physical server, your website is hosted on a cluster of servers that work together to provide the necessary resources. \n",
    "## Cloud hosting is often used for websites that need to be able to handle spikes in traffic or that require a high degree of reliability and uptime."
   ]
  },
  {
   "cell_type": "code",
   "execution_count": 5,
   "id": "01951810-aacf-454d-8d92-4202a01607eb",
   "metadata": {},
   "outputs": [],
   "source": [
    "## With traditional hosting, you typically have a fixed amount of resources available, and if you need more, \n",
    "## you have to upgrade to a more powerful server or purchase additional servers."
   ]
  },
  {
   "cell_type": "code",
   "execution_count": 6,
   "id": "9776743d-5f46-4181-ba32-43aa0772b8c1",
   "metadata": {},
   "outputs": [],
   "source": [
    "## With cloud hosting, you can easily scale up or down your resources as needed, allowing you to accommodate fluctuations\n",
    "## in traffic without incurring significant costs."
   ]
  },
  {
   "cell_type": "code",
   "execution_count": 7,
   "id": "349b7f4a-3fbe-4612-8f73-b232ccc44625",
   "metadata": {},
   "outputs": [],
   "source": [
    "## Because your website is hosted on a cluster of servers, if one server goes down,\n",
    "## your site will automatically be switched to another server, minimizing downtime"
   ]
  },
  {
   "cell_type": "markdown",
   "id": "b8460aec-0b26-46ca-911b-ba0226179e6f",
   "metadata": {},
   "source": [
    "Q3. How do you choose the right cloud provider for your application deployment, and what factors\n",
    "should you consider?"
   ]
  },
  {
   "cell_type": "code",
   "execution_count": 8,
   "id": "e3244156-f3a6-4cde-8fae-20cc2b4eec81",
   "metadata": {},
   "outputs": [],
   "source": [
    "## Choosing the right cloud provider for your application deployment can be a critical decision that impacts the performance,\n",
    "## reliability, and cost-effectiveness of your application."
   ]
  },
  {
   "cell_type": "code",
   "execution_count": 9,
   "id": "e5577646-9fe8-4eaf-aa50-e709a04f074e",
   "metadata": {},
   "outputs": [],
   "source": [
    "##Factors to consider"
   ]
  },
  {
   "cell_type": "code",
   "execution_count": 10,
   "id": "5b508c8d-0c94-4f9d-8b64-d3ef643eb4d7",
   "metadata": {},
   "outputs": [],
   "source": [
    "## 1.Cost:Consider the cost of the cloud provider's services, including any upfront fees, monthly fees, and usage-based charges\n",
    "## 2.Scalability: Look for a provider that can easily scale resources up or down as needed to meet your application's demand.\n",
    "## 3.Reliability: Ensure that the provider offers a high level of uptime and availability for your application.\n",
    "## 4.Security: Consider the security measures provided by the cloud provider, including firewalls, encryption, and access controls.\n",
    "##      Ensure that your data and application are protected against unauthorized access and potential threats\n",
    "## 5.Compatibility: Ensure that the cloud provider supports the programming languages, frameworks, and tools that you use to develop and deploy your application"
   ]
  },
  {
   "cell_type": "markdown",
   "id": "092ea3ce-6ccf-4247-8874-3fa7e0fb1d73",
   "metadata": {},
   "source": [
    "Q4. How do you design and build a responsive user interface for your web application, and what are\n",
    "some best practices to follow?"
   ]
  },
  {
   "cell_type": "code",
   "execution_count": 11,
   "id": "d1c2d235-4794-4993-b41a-32378a6fa091",
   "metadata": {},
   "outputs": [],
   "source": [
    "## A responsive website is one that can adapt to any device or browser, having any specific resolution without causing any breakage in layout or horizontal scrolling. "
   ]
  },
  {
   "cell_type": "code",
   "execution_count": 12,
   "id": "a5a4bc5a-9561-4aa4-a606-c2053c55b1c3",
   "metadata": {},
   "outputs": [],
   "source": [
    "## Plan your layout: Plan your layout before starting development, taking into account the different screen sizes and devices that your users might be using.\n",
    "## Use a mobile-first approach: Start by designing your UI for mobile devices, and then scale up to larger screen sizes.\n",
    "## Choose a responsive framework:Use a responsive framework, such as Falsk which is useful for python based building models\n",
    "## Use flexible grids and layouts: Use flexible grids and layouts that adjust based on the size of the screen.\n",
    "## Prioritize content: Prioritize the most important content and functionality for your UI, and make it easy to access and use on different devices\n",
    "## Test and iterate: Test your UI on different devices and screen sizes, and iterate based on user feedback and analytics."
   ]
  },
  {
   "cell_type": "markdown",
   "id": "43f992cb-00a8-4e7c-9925-2da9830998a7",
   "metadata": {},
   "source": [
    "Q5. How do you integrate the machine learning model with the user interface for the Algerian Forest Fires\n",
    "project(which we discussed in class), and what APIs or libraries can you use for this purpose?"
   ]
  },
  {
   "cell_type": "code",
   "execution_count": 14,
   "id": "ff2f3683-1427-453e-b656-8b64bf83d6a0",
   "metadata": {},
   "outputs": [],
   "source": [
    "## After Preprocessing , Feature Engineering ,we train and evaluate our model.\n",
    "## We then save our scalar and ridge model using pickle module in jupyter environment.\n",
    "## Once this is done we can build  flask based API for building web api(user interface)\n",
    "## we had first imported important libraries like flask,render_template,request,pickle\n",
    "## we load our scalar and model using pickle (pickle.load)\n",
    "## Defining the prediction function:\n",
    "## we have used render_template to render \"home.html\" page when we route to '/predictdata'\n",
    "## In this page we enetered different paramaeters values and click submit\n",
    "## Once submitted it will predict \"FWI\" in the same \"home.html\" rendered page"
   ]
  },
  {
   "cell_type": "code",
   "execution_count": null,
   "id": "791ef767-4efa-4f9d-a777-ab5014e1788c",
   "metadata": {},
   "outputs": [],
   "source": []
  }
 ],
 "metadata": {
  "kernelspec": {
   "display_name": "Python 3 (ipykernel)",
   "language": "python",
   "name": "python3"
  },
  "language_info": {
   "codemirror_mode": {
    "name": "ipython",
    "version": 3
   },
   "file_extension": ".py",
   "mimetype": "text/x-python",
   "name": "python",
   "nbconvert_exporter": "python",
   "pygments_lexer": "ipython3",
   "version": "3.10.8"
  }
 },
 "nbformat": 4,
 "nbformat_minor": 5
}
