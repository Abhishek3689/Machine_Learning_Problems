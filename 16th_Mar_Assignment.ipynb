{
 "cells": [
  {
   "cell_type": "markdown",
   "id": "e03ed4cd-4f4e-4dc9-a0e5-f5aafe780ac7",
   "metadata": {},
   "source": [
    "Q1: Define overfitting and underfitting in machine learning. What are the consequences of each, and how\n",
    "can they be mitigated?"
   ]
  },
  {
   "cell_type": "code",
   "execution_count": 1,
   "id": "6f8fbd6c-a058-46f2-9b8e-a123a269ae4f",
   "metadata": {},
   "outputs": [],
   "source": [
    "## Overfitting: When Model performs well in train data but not in test data overfitting occurs.\n",
    "## Overfitting captures each and every data point so well that  noise is introduced in the data. It has low bias but high variance.\n",
    "\n",
    "## Underfitting : when model does not perform well on train as well as test data underfitting occurs.\n",
    "## Underfitting has high bias and high variance.\n",
    "\n",
    "## To mitigate these we try to build model which has low bias and low variance.(optimal value)\n"
   ]
  },
  {
   "cell_type": "markdown",
   "id": "5b795ebf-984f-4016-b780-bd1c1d214577",
   "metadata": {},
   "source": [
    "Q2: How can we reduce overfitting? Explain in brief."
   ]
  },
  {
   "cell_type": "code",
   "execution_count": 2,
   "id": "dd2ba886-edc1-459c-817b-f76e1ebee9a1",
   "metadata": {},
   "outputs": [],
   "source": [
    "## There are various ways we can reduce overfiting\n",
    "## Regularization is typically used to reduce the variance with a model by applying a penalty to the input parameters with the larger coefficient.\n",
    "## Feature selecton: To select important Features only\n",
    "## Cross Validation: Perform training on whole train datset by random sampling.\n",
    "## Pruning : cutting down some unwanted branches"
   ]
  },
  {
   "cell_type": "markdown",
   "id": "799836ec-27da-4078-999c-a556dad6dc62",
   "metadata": {},
   "source": [
    "Q3: Explain underfitting. List scenarios where underfitting can occur in ML."
   ]
  },
  {
   "cell_type": "code",
   "execution_count": 3,
   "id": "692376ad-fd82-4a26-895a-a60a7d5b2fb7",
   "metadata": {},
   "outputs": [],
   "source": [
    "## Underfiiting occurs when model does not perform well on train as well as test data .\n",
    "## It does not capture all  data points. It has high bias and high variance\n",
    "## It occurs when we have fewer data to build models"
   ]
  },
  {
   "cell_type": "markdown",
   "id": "48c4fd05-3684-4fd3-b261-25086e698997",
   "metadata": {},
   "source": [
    "Q4: Explain the bias-variance tradeoff in machine learning. What is the relationship between bias and\n",
    "variance, and how do they affect model performance?"
   ]
  },
  {
   "cell_type": "code",
   "execution_count": 4,
   "id": "043044bc-6e3f-4930-86fb-5d285a3ee06b",
   "metadata": {},
   "outputs": [],
   "source": [
    "## If our model is too simple and has very few parameters then it may have high bias and low variance.\n",
    "## On the other hand if our model has large number of parameters then it’s going to have high variance and low bias. \n",
    "## In general when we try to reduce bias , variance tends to increase and if we try to reduce variace, bias increases.\n",
    "## Bias-Variance trade-off is about finding the sweet spot to make a balance between bias and variance errors\n",
    "## Bias and Variance are inversely proportonal.\n",
    "## So we need to find the right/good balance without overfitting and underfitting the data meaning We need to have low bias and low variance(optimal Value)"
   ]
  },
  {
   "cell_type": "markdown",
   "id": "7d0865ef-9837-4b70-818c-ec2d5761d2d0",
   "metadata": {},
   "source": [
    "Q5: Discuss some common methods for detecting overfitting and underfitting in machine learning models.\n",
    "How can you determine whether your model is overfitting or underfitting?"
   ]
  },
  {
   "cell_type": "code",
   "execution_count": 5,
   "id": "2f5890f9-86d9-47c4-88e8-145a6f739185",
   "metadata": {},
   "outputs": [],
   "source": [
    "## By evaluating our model with accuracy score, using metrics parameter we can check overfiting and underfitting.\n",
    "## if accuracy is good on train data eg 85% but not on test data eg.60% then it is overfitiing\n",
    "## if accuracy is not good for train data eg 50% and also on test data eg. 40% it is underfitiing"
   ]
  },
  {
   "cell_type": "markdown",
   "id": "7da497e6-b628-4b76-a2d0-78b4f8ccacca",
   "metadata": {},
   "source": [
    "Q6: Compare and contrast bias and variance in machine learning. What are some examples of high bias\n",
    "and high variance models, and how do they differ in terms of their performance?"
   ]
  },
  {
   "cell_type": "code",
   "execution_count": 6,
   "id": "99fa117f-967b-444a-998f-9c98a06e028d",
   "metadata": {},
   "outputs": [],
   "source": [
    "## While making predictions, a difference occurs between prediction values made by the model and actual values/expected values,\n",
    "## and this difference is known as bias errors or Errors due to bias."
   ]
  },
  {
   "cell_type": "code",
   "execution_count": 7,
   "id": "33daf3eb-81ff-417d-acab-5697ff8d89a2",
   "metadata": {},
   "outputs": [],
   "source": [
    "## an algorithm with high bias is Linear Regression and Logistic Regression."
   ]
  },
  {
   "cell_type": "code",
   "execution_count": 8,
   "id": "1b3adfca-edc5-4e71-b5a0-641c62879c4b",
   "metadata": {},
   "outputs": [],
   "source": [
    "## The variance would specify the amount of variation in the prediction if the different training data was used. In simple words, \n",
    "## variance tells that how much a random variable is different from its expected value"
   ]
  },
  {
   "cell_type": "code",
   "execution_count": 9,
   "id": "3a56c260-a0d3-40f8-8e3a-541d1b725478",
   "metadata": {},
   "outputs": [],
   "source": [
    "## algorithms with high variance are decision tree, Support Vector Machine, and K-nearest neighbours."
   ]
  },
  {
   "cell_type": "markdown",
   "id": "5f8feaf2-3ef4-4f81-9302-7225b2e447d6",
   "metadata": {},
   "source": [
    "Q7: What is regularization in machine learning, and how can it be used to prevent overfitting? Describe\n",
    "some common regularization techniques and how they work."
   ]
  },
  {
   "cell_type": "code",
   "execution_count": 10,
   "id": "22a0c616-dee9-43c6-b923-ceaf895b9d5b",
   "metadata": {},
   "outputs": [],
   "source": [
    "## Regularization is the process of adding penalty term to the model"
   ]
  },
  {
   "cell_type": "code",
   "execution_count": 11,
   "id": "8e8da4d2-fcdf-4a86-b270-3dad7b91aba6",
   "metadata": {},
   "outputs": [],
   "source": [
    "## This technique can be used in such a way that it will allow to maintain all variables or features in the model by reducing the magnitude of the variables. \n",
    "## Hence, it maintains accuracy as well as a generalization of the model."
   ]
  },
  {
   "cell_type": "code",
   "execution_count": 12,
   "id": "3717e5fb-6818-41e1-9c3b-747db7124543",
   "metadata": {},
   "outputs": [],
   "source": [
    "## Regularaization Technique"
   ]
  },
  {
   "cell_type": "code",
   "execution_count": 13,
   "id": "092ad0c3-5511-4a1d-b060-a52cc3dc82ab",
   "metadata": {},
   "outputs": [],
   "source": [
    "## Lasso Regularization(L1):Modifies overfitted or under-fitted models by adding a penalty equivalent to the sum of the absolute values of the coefficients.\n",
    "## Lasso regression also performs coefficient minimization, but instead of squaring the magnitudes of the coefficients, it takes the actual values of the coefficients. \n",
    "## This means that the sum of the coefficients can also be 0 because there are negative coefficients"
   ]
  },
  {
   "cell_type": "code",
   "execution_count": 14,
   "id": "77f147f9-ce5d-4f51-ba0f-58fa3cb043b3",
   "metadata": {},
   "outputs": [],
   "source": [
    "## Ridge Regularization(L2):it adjusts models with overfitting or underfitting by adding a penalty equivalent to the sum of the squares of the magnitudes of the coefficients.\n",
    "## This means that the mathematical function representing our machine learning model is minimized and the coefficients are calculated. \n",
    "## The size of the coefficients is multiplied and added. \n",
    "## Ridge Regression performs regularization by reducing the coefficients present."
   ]
  },
  {
   "cell_type": "code",
   "execution_count": null,
   "id": "06f81c52-db00-4334-953d-3bc431540dc1",
   "metadata": {},
   "outputs": [],
   "source": []
  }
 ],
 "metadata": {
  "kernelspec": {
   "display_name": "Python 3 (ipykernel)",
   "language": "python",
   "name": "python3"
  },
  "language_info": {
   "codemirror_mode": {
    "name": "ipython",
    "version": 3
   },
   "file_extension": ".py",
   "mimetype": "text/x-python",
   "name": "python",
   "nbconvert_exporter": "python",
   "pygments_lexer": "ipython3",
   "version": "3.10.8"
  }
 },
 "nbformat": 4,
 "nbformat_minor": 5
}
