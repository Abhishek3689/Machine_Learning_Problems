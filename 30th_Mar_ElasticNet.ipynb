{
 "cells": [
  {
   "cell_type": "markdown",
   "id": "fbecb215-48b8-40f4-ab0e-019fcbc05470",
   "metadata": {},
   "source": [
    "Q1. What is Elastic Net Regression and how does it differ from other regression techniques?"
   ]
  },
  {
   "cell_type": "code",
   "execution_count": 1,
   "id": "87c16871-8e0b-4013-90ef-c4c828a6eecf",
   "metadata": {},
   "outputs": [],
   "source": [
    "## Elastic net Regression is a Technique used in Linear Regression to reduce overfitting.\n",
    "## Sometimes our data has large number of independent variables and also multicollinearity in the data so we cant go with either Lasso and Ridge,\n",
    "## so we can use Elastic net Regression which add both L1 and L2 Penalty term to our cost funtion."
   ]
  },
  {
   "cell_type": "markdown",
   "id": "e6582b33-0ce0-4283-a736-cc8a73142dc0",
   "metadata": {},
   "source": [
    "Q2. How do you choose the optimal values of the regularization parameters for Elastic Net Regression?"
   ]
  },
  {
   "cell_type": "code",
   "execution_count": 2,
   "id": "dae6dcd6-67da-4aac-aabe-c15a0a621398",
   "metadata": {},
   "outputs": [],
   "source": [
    "## Choosing optimal values of the regularization parameters for Elastic Net Regression involves tuning two hyperparameters: \n",
    "## the L1 regularization parameter (λ1) and the L2 regularization parameter (λ2)."
   ]
  },
  {
   "cell_type": "code",
   "execution_count": 3,
   "id": "547fdfbf-e5be-4915-ae7f-8f5491878008",
   "metadata": {},
   "outputs": [],
   "source": [
    "## There is no definitve method for selecting the best values but some common approaches are\n",
    "## 1. GridsearchCV\n",
    "## 2.RandomisedSearchCV\n",
    "## 3.ElasticNetCV"
   ]
  },
  {
   "cell_type": "markdown",
   "id": "a09897d0-afa3-4d73-b45c-8c2d14711a48",
   "metadata": {},
   "source": [
    "Q3. What are the advantages and disadvantages of Elastic Net Regression?"
   ]
  },
  {
   "cell_type": "markdown",
   "id": "a1534418-2e9a-4cbb-a97a-eea34d4b3a1f",
   "metadata": {},
   "source": [
    "##### Advantages"
   ]
  },
  {
   "cell_type": "code",
   "execution_count": 4,
   "id": "9274194e-f24f-4b1b-9e81-cbb5ea687f6f",
   "metadata": {},
   "outputs": [],
   "source": [
    "## It can handle high dimensional dataset\n",
    "## It reduces overfitting problems\n",
    "## Handle mulitcollinearity in the data"
   ]
  },
  {
   "cell_type": "markdown",
   "id": "ca7593f1-a6cb-49f0-961a-430e01d23309",
   "metadata": {},
   "source": [
    "##### DisAdvantages"
   ]
  },
  {
   "cell_type": "code",
   "execution_count": 5,
   "id": "188390dc-58b7-46c5-b70d-42d2a64018cc",
   "metadata": {},
   "outputs": [],
   "source": [
    "## Elastic Net Regression requires tuning of two hyperparameters: α and λ. Finding the optimal values of these hyperparameters can be time-consuming and computationally expensive.\n",
    "## It can be slower if large dataset is there.\n",
    "## If non linear data then fail to perform well"
   ]
  },
  {
   "cell_type": "markdown",
   "id": "b3467007-1ab0-4f72-a02c-8b5e1fba33e3",
   "metadata": {},
   "source": [
    "Q4. What are some common use cases for Elastic Net Regression?  "
   ]
  },
  {
   "cell_type": "code",
   "execution_count": 6,
   "id": "33eab129-772d-4914-aab6-74043a0b8681",
   "metadata": {},
   "outputs": [],
   "source": [
    "## To predict the price of a house in a particular city it is useful by selecting important features.\n",
    "## In stock market price it is useful for predicting,to identify factors that influence asset returns, and to estimate the value of financial instruments.\n",
    "## It can be most widely used in Health care domain for availability of rooms and charges can be infered"
   ]
  },
  {
   "cell_type": "markdown",
   "id": "c02578d4-543a-453e-86bc-17bef5ac0d70",
   "metadata": {},
   "source": [
    "Q5. How do you interpret the coefficients in Elastic Net Regression?"
   ]
  },
  {
   "cell_type": "code",
   "execution_count": 7,
   "id": "0bda08f8-9971-48c7-b7be-4afc565fcbaf",
   "metadata": {},
   "outputs": [],
   "source": [
    "## The interpretation of the coefficients is similar to that in linear regression, but the presence of regularization can affect their values and interpretation."
   ]
  },
  {
   "cell_type": "code",
   "execution_count": 8,
   "id": "574f78c4-7bd8-48ba-b626-0810f7cec2c5",
   "metadata": {},
   "outputs": [],
   "source": [
    "## Magnitude: The magnitude of a coefficient indicates the strength of the relationship between the predictor and the outcome variable.\n",
    "## A larger magnitude indicates a stronger relationship."
   ]
  },
  {
   "cell_type": "code",
   "execution_count": 9,
   "id": "566bf973-baf0-4ed0-9e66-2b16f26d7790",
   "metadata": {},
   "outputs": [],
   "source": [
    "## Sign: The sign of a coefficient indicates the direction of the relationship between the predictor and the outcome variable.\n",
    "## A positive sign indicates a positive relationship, while a negative sign indicates a negative relationship"
   ]
  },
  {
   "cell_type": "code",
   "execution_count": 10,
   "id": "da51b9b5-65bc-4092-8bae-75ca78c3bdf9",
   "metadata": {},
   "outputs": [],
   "source": [
    "## Shrinkage: The regularization term in Elastic Net Regression can shrink the magnitude of the coefficients towards zero,\n",
    "## which can improve the stability and generalization of the mode"
   ]
  },
  {
   "cell_type": "markdown",
   "id": "39f0ea9a-afb3-447c-9062-d12b237296ed",
   "metadata": {},
   "source": [
    "Q6. How do you handle missing values when using Elastic Net Regression?"
   ]
  },
  {
   "cell_type": "code",
   "execution_count": 11,
   "id": "8888b553-9ec8-44a6-931f-9786e1c2f9e3",
   "metadata": {},
   "outputs": [],
   "source": [
    "## Missing Values can be handle by multiple approaches"
   ]
  },
  {
   "cell_type": "code",
   "execution_count": 12,
   "id": "bbf9c396-ddcb-42a6-bf76-9a59a65e3fe8",
   "metadata": {},
   "outputs": [],
   "source": [
    "## Deleting: One can delete the missing values but can lead to loss of information. \n",
    "## Imputation: One common approaches is to fill Misiing values with either mean,median and mode imputation\n",
    "## Model-based imputation : Model-based imputation involves using a separate model to predict the missing values based on the available data. \n",
    "##       This can be done using techniques such as regression imputation, k-nearest neighbors imputation, and decision tree imputation. \n",
    "##        Model-based imputation can improve the accuracy of imputation compared to simple methods such as mean or median imputation."
   ]
  },
  {
   "cell_type": "markdown",
   "id": "3887ac0a-46c8-49f1-ab5c-fcaa2001477a",
   "metadata": {},
   "source": [
    "Q7. How do you use Elastic Net Regression for feature selection?"
   ]
  },
  {
   "cell_type": "code",
   "execution_count": 13,
   "id": "2bfef9a9-3746-401e-8414-d27c493eb7c7",
   "metadata": {},
   "outputs": [],
   "source": [
    "###  Elastic Net Regression can be used for feature selection by estimating the coefficients of each predictor and ranking them based on their importance. \n",
    "## This approach can be useful for identifying the most important predictors for predicting the outcome variable and for reducing the dimensionality of the dataset"
   ]
  },
  {
   "cell_type": "code",
   "execution_count": 14,
   "id": "31db95ee-c1b7-4ac6-b65c-2128beda7052",
   "metadata": {},
   "outputs": [],
   "source": [
    "## Redundant variables coefficients are redued to 0 and thus helpful in feature selection"
   ]
  },
  {
   "cell_type": "markdown",
   "id": "e03ddc30-db82-4f5f-9ea0-99d539f70fc3",
   "metadata": {},
   "source": [
    "Q8. How do you pickle and unpickle a trained Elastic Net Regression model in Python?"
   ]
  },
  {
   "cell_type": "code",
   "execution_count": 15,
   "id": "de90149a-5e54-44d1-9136-54b6588a2933",
   "metadata": {},
   "outputs": [],
   "source": [
    "## 1.Train the Elastic Net Regression model: Before the model can be pickled, it must first be trained on a dataset.\n",
    "## 2.Import the necessary libraries: .Import the pickle module, which is used to serialize and deserialize Python object\n",
    "## 3.Pickle the model: Once the model has been trained, you can pickle it by using the pickle.dump() method.\n",
    "###     This takes 2 arguemtnst 1st model to be pickled and 2nd mode usually 'wb'\n",
    "## 4.Unpickle the model: To unpickle the model, you can use the pickle.load() method.\n",
    "###     This method takes a file object as its argument and returns the unpickled object (in this case, the trained Elastic Net Regression model)."
   ]
  },
  {
   "cell_type": "markdown",
   "id": "25772041-6c57-478e-88a5-2451faa61368",
   "metadata": {},
   "source": [
    "Q9. What is the purpose of pickling a model in machine learning?"
   ]
  },
  {
   "cell_type": "code",
   "execution_count": 16,
   "id": "d7a531de-d272-4618-b23a-c91fee5565b8",
   "metadata": {},
   "outputs": [],
   "source": [
    "## The purpose of pickling a model in machine learning is to save the trained model object to disk, \n",
    "## so that it can be loaded and reused later without having to retrain the model.\n",
    "## This is particularly useful when you have a large and complex model that takes a long time to train, or when you want to deploy the model in a production environment."
   ]
  },
  {
   "cell_type": "code",
   "execution_count": null,
   "id": "5694e42e-e3e6-419e-a257-2528141cf12b",
   "metadata": {},
   "outputs": [],
   "source": []
  }
 ],
 "metadata": {
  "kernelspec": {
   "display_name": "Python 3 (ipykernel)",
   "language": "python",
   "name": "python3"
  },
  "language_info": {
   "codemirror_mode": {
    "name": "ipython",
    "version": 3
   },
   "file_extension": ".py",
   "mimetype": "text/x-python",
   "name": "python",
   "nbconvert_exporter": "python",
   "pygments_lexer": "ipython3",
   "version": "3.10.8"
  }
 },
 "nbformat": 4,
 "nbformat_minor": 5
}
