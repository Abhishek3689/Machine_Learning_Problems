{
 "cells": [
  {
   "cell_type": "markdown",
   "id": "b7f857d2-eb9e-4eea-a9d5-029bde49caab",
   "metadata": {},
   "source": [
    "Q1. Pearson correlation coefficient is a measure of the linear relationship between two variables. Suppose\n",
    "you have collected data on the amount of time students spend studying for an exam and their final exam\n",
    "scores. Calculate the Pearson correlation coefficient between these two variables and interpret the result."
   ]
  },
  {
   "cell_type": "code",
   "execution_count": 1,
   "id": "7eace90c-c3f1-4207-b75f-61fb5d7b216f",
   "metadata": {},
   "outputs": [],
   "source": [
    "import pandas as pd"
   ]
  },
  {
   "cell_type": "code",
   "execution_count": 2,
   "id": "0d6aca3a-a136-4baf-9c0c-8411fcb55d37",
   "metadata": {},
   "outputs": [],
   "source": [
    "df_stud=pd.DataFrame({\"Time_Studying\":[1,2,3,4,6,5,3,2,4,5],\"Scores\":[45,50,56,70,88,75,61,54,48,90]})"
   ]
  },
  {
   "cell_type": "code",
   "execution_count": 3,
   "id": "9b99b89e-be85-4f3f-a99e-5df5d36ece76",
   "metadata": {},
   "outputs": [
    {
     "data": {
      "text/html": [
       "<div>\n",
       "<style scoped>\n",
       "    .dataframe tbody tr th:only-of-type {\n",
       "        vertical-align: middle;\n",
       "    }\n",
       "\n",
       "    .dataframe tbody tr th {\n",
       "        vertical-align: top;\n",
       "    }\n",
       "\n",
       "    .dataframe thead th {\n",
       "        text-align: right;\n",
       "    }\n",
       "</style>\n",
       "<table border=\"1\" class=\"dataframe\">\n",
       "  <thead>\n",
       "    <tr style=\"text-align: right;\">\n",
       "      <th></th>\n",
       "      <th>Time_Studying</th>\n",
       "      <th>Scores</th>\n",
       "    </tr>\n",
       "  </thead>\n",
       "  <tbody>\n",
       "    <tr>\n",
       "      <th>0</th>\n",
       "      <td>1</td>\n",
       "      <td>45</td>\n",
       "    </tr>\n",
       "    <tr>\n",
       "      <th>1</th>\n",
       "      <td>2</td>\n",
       "      <td>50</td>\n",
       "    </tr>\n",
       "    <tr>\n",
       "      <th>2</th>\n",
       "      <td>3</td>\n",
       "      <td>56</td>\n",
       "    </tr>\n",
       "    <tr>\n",
       "      <th>3</th>\n",
       "      <td>4</td>\n",
       "      <td>70</td>\n",
       "    </tr>\n",
       "    <tr>\n",
       "      <th>4</th>\n",
       "      <td>6</td>\n",
       "      <td>88</td>\n",
       "    </tr>\n",
       "    <tr>\n",
       "      <th>5</th>\n",
       "      <td>5</td>\n",
       "      <td>75</td>\n",
       "    </tr>\n",
       "    <tr>\n",
       "      <th>6</th>\n",
       "      <td>3</td>\n",
       "      <td>61</td>\n",
       "    </tr>\n",
       "    <tr>\n",
       "      <th>7</th>\n",
       "      <td>2</td>\n",
       "      <td>54</td>\n",
       "    </tr>\n",
       "    <tr>\n",
       "      <th>8</th>\n",
       "      <td>4</td>\n",
       "      <td>48</td>\n",
       "    </tr>\n",
       "    <tr>\n",
       "      <th>9</th>\n",
       "      <td>5</td>\n",
       "      <td>90</td>\n",
       "    </tr>\n",
       "  </tbody>\n",
       "</table>\n",
       "</div>"
      ],
      "text/plain": [
       "   Time_Studying  Scores\n",
       "0              1      45\n",
       "1              2      50\n",
       "2              3      56\n",
       "3              4      70\n",
       "4              6      88\n",
       "5              5      75\n",
       "6              3      61\n",
       "7              2      54\n",
       "8              4      48\n",
       "9              5      90"
      ]
     },
     "execution_count": 3,
     "metadata": {},
     "output_type": "execute_result"
    }
   ],
   "source": [
    "df_stud"
   ]
  },
  {
   "cell_type": "code",
   "execution_count": 4,
   "id": "dedb86c9-bc94-4f96-9276-529cf432e056",
   "metadata": {},
   "outputs": [
    {
     "data": {
      "text/html": [
       "<div>\n",
       "<style scoped>\n",
       "    .dataframe tbody tr th:only-of-type {\n",
       "        vertical-align: middle;\n",
       "    }\n",
       "\n",
       "    .dataframe tbody tr th {\n",
       "        vertical-align: top;\n",
       "    }\n",
       "\n",
       "    .dataframe thead th {\n",
       "        text-align: right;\n",
       "    }\n",
       "</style>\n",
       "<table border=\"1\" class=\"dataframe\">\n",
       "  <thead>\n",
       "    <tr style=\"text-align: right;\">\n",
       "      <th></th>\n",
       "      <th>Time_Studying</th>\n",
       "      <th>Scores</th>\n",
       "    </tr>\n",
       "  </thead>\n",
       "  <tbody>\n",
       "    <tr>\n",
       "      <th>Time_Studying</th>\n",
       "      <td>1.000000</td>\n",
       "      <td>0.859569</td>\n",
       "    </tr>\n",
       "    <tr>\n",
       "      <th>Scores</th>\n",
       "      <td>0.859569</td>\n",
       "      <td>1.000000</td>\n",
       "    </tr>\n",
       "  </tbody>\n",
       "</table>\n",
       "</div>"
      ],
      "text/plain": [
       "               Time_Studying    Scores\n",
       "Time_Studying       1.000000  0.859569\n",
       "Scores              0.859569  1.000000"
      ]
     },
     "execution_count": 4,
     "metadata": {},
     "output_type": "execute_result"
    }
   ],
   "source": [
    "df_stud.corr(method=\"pearson\")"
   ]
  },
  {
   "cell_type": "code",
   "execution_count": 5,
   "id": "8ab0fe17-4bca-4326-ad06-4e1de7dc79b4",
   "metadata": {},
   "outputs": [],
   "source": [
    "## From above we can observe that Time studying has high positive corelation with scores of students(.85)"
   ]
  },
  {
   "cell_type": "code",
   "execution_count": 6,
   "id": "d389b989-fc18-4e3b-9ca6-4d36873756c9",
   "metadata": {},
   "outputs": [],
   "source": [
    "## More is the study time, higher is the marks"
   ]
  },
  {
   "cell_type": "markdown",
   "id": "bcf4012e-f91b-4444-92fc-262bbfc749f9",
   "metadata": {},
   "source": [
    "Q2. Spearman's rank correlation is a measure of the monotonic relationship between two variables.\n",
    "Suppose you have collected data on the amount of sleep individuals get each night and their overall job\n",
    "satisfaction level on a scale of 1 to 10. Calculate the Spearman's rank correlation between these two\n",
    "variables and interpret the result."
   ]
  },
  {
   "cell_type": "code",
   "execution_count": 7,
   "id": "be99ce7d-6415-4f65-810d-dded2a795b41",
   "metadata": {},
   "outputs": [],
   "source": [
    "df_job=pd.DataFrame({\"sleep_time\":[6,5,7,4,8,9,5,6,3,7],\"Job_Satisfaction\":[7,5,8,4,6,9,6,7,2,8]})"
   ]
  },
  {
   "cell_type": "code",
   "execution_count": 8,
   "id": "7ec2d19e-13c0-41bb-bc6a-9fddef10ea06",
   "metadata": {},
   "outputs": [
    {
     "data": {
      "text/html": [
       "<div>\n",
       "<style scoped>\n",
       "    .dataframe tbody tr th:only-of-type {\n",
       "        vertical-align: middle;\n",
       "    }\n",
       "\n",
       "    .dataframe tbody tr th {\n",
       "        vertical-align: top;\n",
       "    }\n",
       "\n",
       "    .dataframe thead th {\n",
       "        text-align: right;\n",
       "    }\n",
       "</style>\n",
       "<table border=\"1\" class=\"dataframe\">\n",
       "  <thead>\n",
       "    <tr style=\"text-align: right;\">\n",
       "      <th></th>\n",
       "      <th>sleep_time</th>\n",
       "      <th>Job_Satisfaction</th>\n",
       "    </tr>\n",
       "  </thead>\n",
       "  <tbody>\n",
       "    <tr>\n",
       "      <th>0</th>\n",
       "      <td>6</td>\n",
       "      <td>7</td>\n",
       "    </tr>\n",
       "    <tr>\n",
       "      <th>1</th>\n",
       "      <td>5</td>\n",
       "      <td>5</td>\n",
       "    </tr>\n",
       "    <tr>\n",
       "      <th>2</th>\n",
       "      <td>7</td>\n",
       "      <td>8</td>\n",
       "    </tr>\n",
       "    <tr>\n",
       "      <th>3</th>\n",
       "      <td>4</td>\n",
       "      <td>4</td>\n",
       "    </tr>\n",
       "    <tr>\n",
       "      <th>4</th>\n",
       "      <td>8</td>\n",
       "      <td>6</td>\n",
       "    </tr>\n",
       "    <tr>\n",
       "      <th>5</th>\n",
       "      <td>9</td>\n",
       "      <td>9</td>\n",
       "    </tr>\n",
       "    <tr>\n",
       "      <th>6</th>\n",
       "      <td>5</td>\n",
       "      <td>6</td>\n",
       "    </tr>\n",
       "    <tr>\n",
       "      <th>7</th>\n",
       "      <td>6</td>\n",
       "      <td>7</td>\n",
       "    </tr>\n",
       "    <tr>\n",
       "      <th>8</th>\n",
       "      <td>3</td>\n",
       "      <td>2</td>\n",
       "    </tr>\n",
       "    <tr>\n",
       "      <th>9</th>\n",
       "      <td>7</td>\n",
       "      <td>8</td>\n",
       "    </tr>\n",
       "  </tbody>\n",
       "</table>\n",
       "</div>"
      ],
      "text/plain": [
       "   sleep_time  Job_Satisfaction\n",
       "0           6                 7\n",
       "1           5                 5\n",
       "2           7                 8\n",
       "3           4                 4\n",
       "4           8                 6\n",
       "5           9                 9\n",
       "6           5                 6\n",
       "7           6                 7\n",
       "8           3                 2\n",
       "9           7                 8"
      ]
     },
     "execution_count": 8,
     "metadata": {},
     "output_type": "execute_result"
    }
   ],
   "source": [
    "df_job"
   ]
  },
  {
   "cell_type": "code",
   "execution_count": 9,
   "id": "a1e4af34-b604-4190-96e5-736f5d526000",
   "metadata": {},
   "outputs": [
    {
     "data": {
      "text/html": [
       "<div>\n",
       "<style scoped>\n",
       "    .dataframe tbody tr th:only-of-type {\n",
       "        vertical-align: middle;\n",
       "    }\n",
       "\n",
       "    .dataframe tbody tr th {\n",
       "        vertical-align: top;\n",
       "    }\n",
       "\n",
       "    .dataframe thead th {\n",
       "        text-align: right;\n",
       "    }\n",
       "</style>\n",
       "<table border=\"1\" class=\"dataframe\">\n",
       "  <thead>\n",
       "    <tr style=\"text-align: right;\">\n",
       "      <th></th>\n",
       "      <th>sleep_time</th>\n",
       "      <th>Job_Satisfaction</th>\n",
       "    </tr>\n",
       "  </thead>\n",
       "  <tbody>\n",
       "    <tr>\n",
       "      <th>sleep_time</th>\n",
       "      <td>1.000000</td>\n",
       "      <td>0.842593</td>\n",
       "    </tr>\n",
       "    <tr>\n",
       "      <th>Job_Satisfaction</th>\n",
       "      <td>0.842593</td>\n",
       "      <td>1.000000</td>\n",
       "    </tr>\n",
       "  </tbody>\n",
       "</table>\n",
       "</div>"
      ],
      "text/plain": [
       "                  sleep_time  Job_Satisfaction\n",
       "sleep_time          1.000000          0.842593\n",
       "Job_Satisfaction    0.842593          1.000000"
      ]
     },
     "execution_count": 9,
     "metadata": {},
     "output_type": "execute_result"
    }
   ],
   "source": [
    "df_job.corr(method='spearman')"
   ]
  },
  {
   "cell_type": "code",
   "execution_count": 10,
   "id": "a24ba8b5-80ca-4a64-8be4-d2511f888d1c",
   "metadata": {},
   "outputs": [],
   "source": [
    "## AS seen from above \"amount of sleep\" is very important for job satisfaction .\n",
    "## both are positively correlated (.84)\n",
    "## More is sleep more is the job satisfaction"
   ]
  },
  {
   "cell_type": "markdown",
   "id": "5afec859-02e4-496c-8b3e-abfbe472971f",
   "metadata": {},
   "source": [
    "Q3. Suppose you are conducting a study to examine the relationship between the number of hours of\n",
    "exercise per week and body mass index (BMI) in a sample of adults. You collected data on both variables\n",
    "for 50 participants. Calculate the Pearson correlation coefficient and the Spearman's rank correlation\n",
    "between these two variables and compare the results."
   ]
  },
  {
   "cell_type": "code",
   "execution_count": 11,
   "id": "d5eadf0b-f014-4ef7-adc3-cfd6c0062891",
   "metadata": {},
   "outputs": [],
   "source": [
    "import numpy as np"
   ]
  },
  {
   "cell_type": "code",
   "execution_count": 12,
   "id": "288d19f9-244c-40c3-a37e-c397f6f76223",
   "metadata": {},
   "outputs": [],
   "source": [
    "x=np.random.randint(16,35,50)"
   ]
  },
  {
   "cell_type": "code",
   "execution_count": 42,
   "id": "21b35bd4-838f-451a-ad9a-43beaa57e8d7",
   "metadata": {},
   "outputs": [],
   "source": [
    "x1=x.copy()"
   ]
  },
  {
   "cell_type": "code",
   "execution_count": 43,
   "id": "cba3c734-a256-4446-a5e7-a28560acf32c",
   "metadata": {},
   "outputs": [
    {
     "data": {
      "text/plain": [
       "array([23, 24, 18, 29, 22, 24, 28, 16, 23, 21, 33, 28, 27, 34, 19, 23, 27,\n",
       "       28, 16, 30, 22, 16, 27, 25, 34, 19, 31, 19, 34, 28, 32, 33, 25, 30,\n",
       "       19, 29, 34, 27, 33, 19, 25, 29, 21, 23, 29, 17, 30, 18, 16, 20])"
      ]
     },
     "execution_count": 43,
     "metadata": {},
     "output_type": "execute_result"
    }
   ],
   "source": [
    "x1"
   ]
  },
  {
   "cell_type": "code",
   "execution_count": 13,
   "id": "5181f876-f699-46e5-bdb2-49dc08da3a78",
   "metadata": {},
   "outputs": [
    {
     "data": {
      "text/plain": [
       "array([23, 24, 18, 29, 22, 24, 28, 16, 23, 21, 33, 28, 27, 34, 19, 23, 27,\n",
       "       28, 16, 30, 22, 16, 27, 25, 34, 19, 31, 19, 34, 28, 32, 33, 25, 30,\n",
       "       19, 29, 34, 27, 33, 19, 25, 29, 21, 23, 29, 17, 30, 18, 16, 20])"
      ]
     },
     "execution_count": 13,
     "metadata": {},
     "output_type": "execute_result"
    }
   ],
   "source": [
    "x"
   ]
  },
  {
   "cell_type": "code",
   "execution_count": 44,
   "id": "58b6503d-bdfa-49cb-9c4c-f467ce98e339",
   "metadata": {},
   "outputs": [],
   "source": [
    "y=[11,9,6,2,8,9,3,2,11,9,1,3,3,1,9,12,5,5,4,2,11,5,5,7,1,9,2,9,1,7,2,1,10,2,10,3,2,5,1,9,11,5,9,11,5,4,2,8,4,9]"
   ]
  },
  {
   "cell_type": "code",
   "execution_count": 45,
   "id": "6f43b593-ca10-4f43-bf54-2170931facb8",
   "metadata": {},
   "outputs": [
    {
     "data": {
      "text/plain": [
       "50"
      ]
     },
     "execution_count": 45,
     "metadata": {},
     "output_type": "execute_result"
    }
   ],
   "source": [
    "len(y)"
   ]
  },
  {
   "cell_type": "code",
   "execution_count": 46,
   "id": "36635c34-d931-4bad-afa5-aa844b98e453",
   "metadata": {},
   "outputs": [],
   "source": [
    "df_excercise=pd.DataFrame({'Time_spent_excercise':y,'BMI':x1})"
   ]
  },
  {
   "cell_type": "code",
   "execution_count": 47,
   "id": "24d7f40d-3287-4757-8b27-ecfe360a2c2e",
   "metadata": {},
   "outputs": [
    {
     "data": {
      "text/html": [
       "<div>\n",
       "<style scoped>\n",
       "    .dataframe tbody tr th:only-of-type {\n",
       "        vertical-align: middle;\n",
       "    }\n",
       "\n",
       "    .dataframe tbody tr th {\n",
       "        vertical-align: top;\n",
       "    }\n",
       "\n",
       "    .dataframe thead th {\n",
       "        text-align: right;\n",
       "    }\n",
       "</style>\n",
       "<table border=\"1\" class=\"dataframe\">\n",
       "  <thead>\n",
       "    <tr style=\"text-align: right;\">\n",
       "      <th></th>\n",
       "      <th>Time_spent_excercise</th>\n",
       "      <th>BMI</th>\n",
       "    </tr>\n",
       "  </thead>\n",
       "  <tbody>\n",
       "    <tr>\n",
       "      <th>0</th>\n",
       "      <td>11</td>\n",
       "      <td>23</td>\n",
       "    </tr>\n",
       "    <tr>\n",
       "      <th>1</th>\n",
       "      <td>9</td>\n",
       "      <td>24</td>\n",
       "    </tr>\n",
       "    <tr>\n",
       "      <th>2</th>\n",
       "      <td>6</td>\n",
       "      <td>18</td>\n",
       "    </tr>\n",
       "    <tr>\n",
       "      <th>3</th>\n",
       "      <td>2</td>\n",
       "      <td>29</td>\n",
       "    </tr>\n",
       "    <tr>\n",
       "      <th>4</th>\n",
       "      <td>8</td>\n",
       "      <td>22</td>\n",
       "    </tr>\n",
       "  </tbody>\n",
       "</table>\n",
       "</div>"
      ],
      "text/plain": [
       "   Time_spent_excercise  BMI\n",
       "0                    11   23\n",
       "1                     9   24\n",
       "2                     6   18\n",
       "3                     2   29\n",
       "4                     8   22"
      ]
     },
     "execution_count": 47,
     "metadata": {},
     "output_type": "execute_result"
    }
   ],
   "source": [
    "df_excercise.head()"
   ]
  },
  {
   "cell_type": "code",
   "execution_count": 48,
   "id": "5b15a136-ff6e-4293-adb7-eea6ba36b9d4",
   "metadata": {},
   "outputs": [
    {
     "data": {
      "text/html": [
       "<div>\n",
       "<style scoped>\n",
       "    .dataframe tbody tr th:only-of-type {\n",
       "        vertical-align: middle;\n",
       "    }\n",
       "\n",
       "    .dataframe tbody tr th {\n",
       "        vertical-align: top;\n",
       "    }\n",
       "\n",
       "    .dataframe thead th {\n",
       "        text-align: right;\n",
       "    }\n",
       "</style>\n",
       "<table border=\"1\" class=\"dataframe\">\n",
       "  <thead>\n",
       "    <tr style=\"text-align: right;\">\n",
       "      <th></th>\n",
       "      <th>Time_spent_excercise</th>\n",
       "      <th>BMI</th>\n",
       "    </tr>\n",
       "  </thead>\n",
       "  <tbody>\n",
       "    <tr>\n",
       "      <th>Time_spent_excercise</th>\n",
       "      <td>1.000000</td>\n",
       "      <td>-0.603367</td>\n",
       "    </tr>\n",
       "    <tr>\n",
       "      <th>BMI</th>\n",
       "      <td>-0.603367</td>\n",
       "      <td>1.000000</td>\n",
       "    </tr>\n",
       "  </tbody>\n",
       "</table>\n",
       "</div>"
      ],
      "text/plain": [
       "                      Time_spent_excercise       BMI\n",
       "Time_spent_excercise              1.000000 -0.603367\n",
       "BMI                              -0.603367  1.000000"
      ]
     },
     "execution_count": 48,
     "metadata": {},
     "output_type": "execute_result"
    }
   ],
   "source": [
    "df_excercise.corr(method='pearson')"
   ]
  },
  {
   "cell_type": "code",
   "execution_count": 49,
   "id": "e089515c-a01e-4790-965c-1cced12fb5f4",
   "metadata": {},
   "outputs": [
    {
     "data": {
      "text/html": [
       "<div>\n",
       "<style scoped>\n",
       "    .dataframe tbody tr th:only-of-type {\n",
       "        vertical-align: middle;\n",
       "    }\n",
       "\n",
       "    .dataframe tbody tr th {\n",
       "        vertical-align: top;\n",
       "    }\n",
       "\n",
       "    .dataframe thead th {\n",
       "        text-align: right;\n",
       "    }\n",
       "</style>\n",
       "<table border=\"1\" class=\"dataframe\">\n",
       "  <thead>\n",
       "    <tr style=\"text-align: right;\">\n",
       "      <th></th>\n",
       "      <th>Time_spent_excercise</th>\n",
       "      <th>BMI</th>\n",
       "    </tr>\n",
       "  </thead>\n",
       "  <tbody>\n",
       "    <tr>\n",
       "      <th>Time_spent_excercise</th>\n",
       "      <td>1.000000</td>\n",
       "      <td>-0.636928</td>\n",
       "    </tr>\n",
       "    <tr>\n",
       "      <th>BMI</th>\n",
       "      <td>-0.636928</td>\n",
       "      <td>1.000000</td>\n",
       "    </tr>\n",
       "  </tbody>\n",
       "</table>\n",
       "</div>"
      ],
      "text/plain": [
       "                      Time_spent_excercise       BMI\n",
       "Time_spent_excercise              1.000000 -0.636928\n",
       "BMI                              -0.636928  1.000000"
      ]
     },
     "execution_count": 49,
     "metadata": {},
     "output_type": "execute_result"
    }
   ],
   "source": [
    "df_excercise.corr(method='spearman')"
   ]
  },
  {
   "cell_type": "code",
   "execution_count": 20,
   "id": "5918b03d-0881-43a2-b2c2-8d568822ff16",
   "metadata": {},
   "outputs": [],
   "source": [
    "## From above it is infered that Time Spent Excercise and BMI are negatively correlated\n",
    "## But as we know that excercise will have a greater impact on BMI \n",
    "## Here this happens due to the reason that BMI has normal range (18.5 – 24.9) , below 18.5 has underweight and above 25 will have obesity problems\n",
    "## BMI will not increase as we do more and more excercise it will be within range, if it goes above range then its obesity,\n",
    "## Almost Pearson and Spearman rank Correlation has almost same results"
   ]
  },
  {
   "cell_type": "markdown",
   "id": "c6cba67a-c64a-4250-8fba-f9cfab325be7",
   "metadata": {},
   "source": [
    "Q4. A researcher is interested in examining the relationship between the number of hours individuals\n",
    "spend watching television per day and their level of physical activity. The researcher collected data on\n",
    "both variables from a sample of 50 participants. Calculate the Pearson correlation coefficient between\n",
    "these two variables."
   ]
  },
  {
   "cell_type": "code",
   "execution_count": 21,
   "id": "36bb60da-e5fd-4a46-878a-d7a394e79a96",
   "metadata": {},
   "outputs": [],
   "source": [
    "t1=np.random.randint(1,10,50)"
   ]
  },
  {
   "cell_type": "code",
   "execution_count": 22,
   "id": "1dabeb6a-acb3-416c-8300-b9dff7d42281",
   "metadata": {},
   "outputs": [
    {
     "data": {
      "text/plain": [
       "array([1, 7, 3, 7, 9, 5, 6, 8, 7, 8, 7, 4, 5, 2, 3, 8, 3, 5, 1, 3, 7, 5,\n",
       "       2, 5, 1, 4, 8, 8, 7, 7, 9, 9, 9, 2, 4, 8, 8, 1, 6, 9, 9, 8, 3, 5,\n",
       "       7, 9, 7, 9, 5, 9])"
      ]
     },
     "execution_count": 22,
     "metadata": {},
     "output_type": "execute_result"
    }
   ],
   "source": [
    "t1"
   ]
  },
  {
   "cell_type": "code",
   "execution_count": 23,
   "id": "063cf221-9059-4d28-8723-8d16026329e1",
   "metadata": {},
   "outputs": [],
   "source": [
    "## Here level of physical activity ranges from 1 to 10 (1 being lowest activity and 10 being highest)\n",
    "activity=10-t1"
   ]
  },
  {
   "cell_type": "code",
   "execution_count": 24,
   "id": "9cb8047b-0cf4-4808-9066-816a6176f31a",
   "metadata": {},
   "outputs": [
    {
     "data": {
      "text/plain": [
       "array([9, 3, 7, 3, 1, 5, 4, 2, 3, 2, 3, 6, 5, 8, 7, 2, 7, 5, 9, 7, 3, 5,\n",
       "       8, 5, 9, 6, 2, 2, 3, 3, 1, 1, 1, 8, 6, 2, 2, 9, 4, 1, 1, 2, 7, 5,\n",
       "       3, 1, 3, 1, 5, 1])"
      ]
     },
     "execution_count": 24,
     "metadata": {},
     "output_type": "execute_result"
    }
   ],
   "source": [
    "activity"
   ]
  },
  {
   "cell_type": "code",
   "execution_count": 25,
   "id": "c8a42568-1645-468c-8660-1ca94b07eb34",
   "metadata": {},
   "outputs": [],
   "source": [
    "df_pyhsical=pd.DataFrame({\"Time_Wathcing_Television\":t1,\"Level_of_Pyhsical_Activity\":activity})"
   ]
  },
  {
   "cell_type": "code",
   "execution_count": 26,
   "id": "af8cda67-1e6a-469b-b063-0148d7aa6a5b",
   "metadata": {},
   "outputs": [
    {
     "data": {
      "text/html": [
       "<div>\n",
       "<style scoped>\n",
       "    .dataframe tbody tr th:only-of-type {\n",
       "        vertical-align: middle;\n",
       "    }\n",
       "\n",
       "    .dataframe tbody tr th {\n",
       "        vertical-align: top;\n",
       "    }\n",
       "\n",
       "    .dataframe thead th {\n",
       "        text-align: right;\n",
       "    }\n",
       "</style>\n",
       "<table border=\"1\" class=\"dataframe\">\n",
       "  <thead>\n",
       "    <tr style=\"text-align: right;\">\n",
       "      <th></th>\n",
       "      <th>Time_Wathcing_Television</th>\n",
       "      <th>Level_of_Pyhsical_Activity</th>\n",
       "    </tr>\n",
       "  </thead>\n",
       "  <tbody>\n",
       "    <tr>\n",
       "      <th>0</th>\n",
       "      <td>1</td>\n",
       "      <td>9</td>\n",
       "    </tr>\n",
       "    <tr>\n",
       "      <th>1</th>\n",
       "      <td>7</td>\n",
       "      <td>3</td>\n",
       "    </tr>\n",
       "    <tr>\n",
       "      <th>2</th>\n",
       "      <td>3</td>\n",
       "      <td>7</td>\n",
       "    </tr>\n",
       "    <tr>\n",
       "      <th>3</th>\n",
       "      <td>7</td>\n",
       "      <td>3</td>\n",
       "    </tr>\n",
       "    <tr>\n",
       "      <th>4</th>\n",
       "      <td>9</td>\n",
       "      <td>1</td>\n",
       "    </tr>\n",
       "  </tbody>\n",
       "</table>\n",
       "</div>"
      ],
      "text/plain": [
       "   Time_Wathcing_Television  Level_of_Pyhsical_Activity\n",
       "0                         1                           9\n",
       "1                         7                           3\n",
       "2                         3                           7\n",
       "3                         7                           3\n",
       "4                         9                           1"
      ]
     },
     "execution_count": 26,
     "metadata": {},
     "output_type": "execute_result"
    }
   ],
   "source": [
    "df_pyhsical.head()"
   ]
  },
  {
   "cell_type": "code",
   "execution_count": 27,
   "id": "286b2373-4c70-4375-8069-4afba4c3047b",
   "metadata": {},
   "outputs": [
    {
     "data": {
      "text/html": [
       "<div>\n",
       "<style scoped>\n",
       "    .dataframe tbody tr th:only-of-type {\n",
       "        vertical-align: middle;\n",
       "    }\n",
       "\n",
       "    .dataframe tbody tr th {\n",
       "        vertical-align: top;\n",
       "    }\n",
       "\n",
       "    .dataframe thead th {\n",
       "        text-align: right;\n",
       "    }\n",
       "</style>\n",
       "<table border=\"1\" class=\"dataframe\">\n",
       "  <thead>\n",
       "    <tr style=\"text-align: right;\">\n",
       "      <th></th>\n",
       "      <th>Time_Wathcing_Television</th>\n",
       "      <th>Level_of_Pyhsical_Activity</th>\n",
       "    </tr>\n",
       "  </thead>\n",
       "  <tbody>\n",
       "    <tr>\n",
       "      <th>Time_Wathcing_Television</th>\n",
       "      <td>1.0</td>\n",
       "      <td>-1.0</td>\n",
       "    </tr>\n",
       "    <tr>\n",
       "      <th>Level_of_Pyhsical_Activity</th>\n",
       "      <td>-1.0</td>\n",
       "      <td>1.0</td>\n",
       "    </tr>\n",
       "  </tbody>\n",
       "</table>\n",
       "</div>"
      ],
      "text/plain": [
       "                            Time_Wathcing_Television  \\\n",
       "Time_Wathcing_Television                         1.0   \n",
       "Level_of_Pyhsical_Activity                      -1.0   \n",
       "\n",
       "                            Level_of_Pyhsical_Activity  \n",
       "Time_Wathcing_Television                          -1.0  \n",
       "Level_of_Pyhsical_Activity                         1.0  "
      ]
     },
     "execution_count": 27,
     "metadata": {},
     "output_type": "execute_result"
    }
   ],
   "source": [
    "df_pyhsical.corr(method='pearson')"
   ]
  },
  {
   "cell_type": "code",
   "execution_count": 28,
   "id": "56c18b9c-6acf-42aa-be78-674b5c304eaf",
   "metadata": {},
   "outputs": [],
   "source": [
    "## Time_spent watching televison and Level of Physical activity has negative correlation"
   ]
  },
  {
   "cell_type": "markdown",
   "id": "435f7131-5fea-43dc-89a2-3f2abe4473bc",
   "metadata": {},
   "source": [
    "Q5. A survey was conducted to examine the relationship between age and preference for a particular\n",
    "brand of soft drink. The survey results are shown below:"
   ]
  },
  {
   "cell_type": "raw",
   "id": "34db5a6c-6bf0-40b6-98fb-5df56a50641d",
   "metadata": {},
   "source": [
    "Age(Years)  -  Soft drink Preference\n",
    "25                Coke\n",
    "42                Pepsi\n",
    "37                Mountain dew \n",
    "19                Coke\n",
    "31                Pepsi\n",
    "28                Coke\n"
   ]
  },
  {
   "cell_type": "code",
   "execution_count": 29,
   "id": "c5d2f9b7-0fa8-4fa3-97a7-c0be99cad43b",
   "metadata": {},
   "outputs": [],
   "source": [
    "## Since above question Didnt specify what needs to be done and as confimred from Ineuron support Team skipping the Question"
   ]
  },
  {
   "cell_type": "markdown",
   "id": "967a42c1-65c2-4684-af30-20adbb5a6898",
   "metadata": {},
   "source": [
    "Q6. A company is interested in examining the relationship between the number of sales calls made per day\n",
    "and the number of sales made per week. The company collected data on both variables from a sample of\n",
    "30 sales representatives. Calculate the Pearson correlation coefficient between these two variables."
   ]
  },
  {
   "cell_type": "code",
   "execution_count": 32,
   "id": "2a61da55-2a60-4eff-bd4a-7361bc1c2994",
   "metadata": {},
   "outputs": [],
   "source": [
    "sales_call=np.random.randint(10,50,30)"
   ]
  },
  {
   "cell_type": "code",
   "execution_count": 33,
   "id": "2878fe38-d152-4c59-9ff3-30946ad40810",
   "metadata": {},
   "outputs": [
    {
     "data": {
      "text/plain": [
       "array([22, 28, 33, 44, 29, 14, 25, 14, 37, 17, 31, 15, 24, 46, 20, 32, 15,\n",
       "       47, 46, 35, 24, 42, 29, 17, 15, 29, 32, 41, 13, 32])"
      ]
     },
     "execution_count": 33,
     "metadata": {},
     "output_type": "execute_result"
    }
   ],
   "source": [
    "sales_call"
   ]
  },
  {
   "cell_type": "code",
   "execution_count": 36,
   "id": "0e533f82-8b3c-4754-8a03-df3b2c60fc67",
   "metadata": {},
   "outputs": [],
   "source": [
    "sales_made=[5,7,8,14,8,3,6,4,12,6,10,3,6,16,5,10,3,20,18,11,8,15,7,3,2,5,10,13,5,9]"
   ]
  },
  {
   "cell_type": "code",
   "execution_count": 37,
   "id": "dde953a4-77cb-4224-bc66-bf16a2bfe7a4",
   "metadata": {},
   "outputs": [
    {
     "data": {
      "text/plain": [
       "30"
      ]
     },
     "execution_count": 37,
     "metadata": {},
     "output_type": "execute_result"
    }
   ],
   "source": [
    "len(sales_made)"
   ]
  },
  {
   "cell_type": "code",
   "execution_count": 38,
   "id": "30475008-9eea-4a27-9e42-d4583c22f52f",
   "metadata": {},
   "outputs": [],
   "source": [
    "df_sales=pd.DataFrame({\"Sales_Call\":sales_call,\"Sales Done\":sales_made})"
   ]
  },
  {
   "cell_type": "code",
   "execution_count": 40,
   "id": "75db833c-b9c3-4f0f-9999-da0bc27fc4e7",
   "metadata": {},
   "outputs": [
    {
     "data": {
      "text/html": [
       "<div>\n",
       "<style scoped>\n",
       "    .dataframe tbody tr th:only-of-type {\n",
       "        vertical-align: middle;\n",
       "    }\n",
       "\n",
       "    .dataframe tbody tr th {\n",
       "        vertical-align: top;\n",
       "    }\n",
       "\n",
       "    .dataframe thead th {\n",
       "        text-align: right;\n",
       "    }\n",
       "</style>\n",
       "<table border=\"1\" class=\"dataframe\">\n",
       "  <thead>\n",
       "    <tr style=\"text-align: right;\">\n",
       "      <th></th>\n",
       "      <th>Sales_Call</th>\n",
       "      <th>Sales Done</th>\n",
       "    </tr>\n",
       "  </thead>\n",
       "  <tbody>\n",
       "    <tr>\n",
       "      <th>0</th>\n",
       "      <td>22</td>\n",
       "      <td>5</td>\n",
       "    </tr>\n",
       "    <tr>\n",
       "      <th>1</th>\n",
       "      <td>28</td>\n",
       "      <td>7</td>\n",
       "    </tr>\n",
       "    <tr>\n",
       "      <th>2</th>\n",
       "      <td>33</td>\n",
       "      <td>8</td>\n",
       "    </tr>\n",
       "    <tr>\n",
       "      <th>3</th>\n",
       "      <td>44</td>\n",
       "      <td>14</td>\n",
       "    </tr>\n",
       "    <tr>\n",
       "      <th>4</th>\n",
       "      <td>29</td>\n",
       "      <td>8</td>\n",
       "    </tr>\n",
       "  </tbody>\n",
       "</table>\n",
       "</div>"
      ],
      "text/plain": [
       "   Sales_Call  Sales Done\n",
       "0          22           5\n",
       "1          28           7\n",
       "2          33           8\n",
       "3          44          14\n",
       "4          29           8"
      ]
     },
     "execution_count": 40,
     "metadata": {},
     "output_type": "execute_result"
    }
   ],
   "source": [
    "df_sales.head()"
   ]
  },
  {
   "cell_type": "code",
   "execution_count": 50,
   "id": "bba43216-2cae-4089-9a97-6fd1da193df4",
   "metadata": {},
   "outputs": [
    {
     "data": {
      "text/html": [
       "<div>\n",
       "<style scoped>\n",
       "    .dataframe tbody tr th:only-of-type {\n",
       "        vertical-align: middle;\n",
       "    }\n",
       "\n",
       "    .dataframe tbody tr th {\n",
       "        vertical-align: top;\n",
       "    }\n",
       "\n",
       "    .dataframe thead th {\n",
       "        text-align: right;\n",
       "    }\n",
       "</style>\n",
       "<table border=\"1\" class=\"dataframe\">\n",
       "  <thead>\n",
       "    <tr style=\"text-align: right;\">\n",
       "      <th></th>\n",
       "      <th>Sales_Call</th>\n",
       "      <th>Sales Done</th>\n",
       "    </tr>\n",
       "  </thead>\n",
       "  <tbody>\n",
       "    <tr>\n",
       "      <th>Sales_Call</th>\n",
       "      <td>1.000000</td>\n",
       "      <td>0.945625</td>\n",
       "    </tr>\n",
       "    <tr>\n",
       "      <th>Sales Done</th>\n",
       "      <td>0.945625</td>\n",
       "      <td>1.000000</td>\n",
       "    </tr>\n",
       "  </tbody>\n",
       "</table>\n",
       "</div>"
      ],
      "text/plain": [
       "            Sales_Call  Sales Done\n",
       "Sales_Call    1.000000    0.945625\n",
       "Sales Done    0.945625    1.000000"
      ]
     },
     "execution_count": 50,
     "metadata": {},
     "output_type": "execute_result"
    }
   ],
   "source": [
    "df_sales.corr(method='pearson')"
   ]
  },
  {
   "cell_type": "code",
   "execution_count": 53,
   "id": "cc1bd66f-230e-4cd5-8fcc-5f22701926fc",
   "metadata": {},
   "outputs": [],
   "source": [
    "## Number of call has high impact on sales.\n",
    "## Higher is the calls higher is the sales "
   ]
  },
  {
   "cell_type": "code",
   "execution_count": null,
   "id": "8eb2f919-51bc-4cb9-8e96-5bad5801e5da",
   "metadata": {},
   "outputs": [],
   "source": []
  }
 ],
 "metadata": {
  "kernelspec": {
   "display_name": "Python 3 (ipykernel)",
   "language": "python",
   "name": "python3"
  },
  "language_info": {
   "codemirror_mode": {
    "name": "ipython",
    "version": 3
   },
   "file_extension": ".py",
   "mimetype": "text/x-python",
   "name": "python",
   "nbconvert_exporter": "python",
   "pygments_lexer": "ipython3",
   "version": "3.10.8"
  }
 },
 "nbformat": 4,
 "nbformat_minor": 5
}
