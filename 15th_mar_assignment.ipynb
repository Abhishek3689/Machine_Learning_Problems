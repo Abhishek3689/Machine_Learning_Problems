{
 "cells": [
  {
   "cell_type": "markdown",
   "id": "6806fa0d-cbc1-48fe-8349-a00a8b566dc6",
   "metadata": {},
   "source": [
    "Q1. Exxplain Following with Example.\n",
    "1. Artificial Intelligence\n",
    "2. Machine Learning\n",
    "3. Deep Learning"
   ]
  },
  {
   "cell_type": "code",
   "execution_count": 1,
   "id": "71022970-f4ff-4cc6-8f0a-8ae432640506",
   "metadata": {},
   "outputs": [],
   "source": [
    "### Artificial Intelligence: It is define as the field of Engineering and computer Science where  Intelligent Machines are build  that can mimic Human Behaviour\n",
    "### Eg. Self Driving Car: It detects the objects through cameras ,actuators and sensors to run"
   ]
  },
  {
   "cell_type": "code",
   "execution_count": 2,
   "id": "88d7bb7d-15f7-4a3f-b09b-c02f674daa8e",
   "metadata": {},
   "outputs": [],
   "source": [
    "### Machine Learning: It is defined as the field of artificial Intelligence by which machine learns from data by training without being explicitly programmed using algorithms\n",
    "### Eg. In healthcare it can be used to predict diabetes"
   ]
  },
  {
   "cell_type": "code",
   "execution_count": 3,
   "id": "3925a05b-b0c5-466c-ac40-6502c94a87ac",
   "metadata": {},
   "outputs": [],
   "source": [
    "### Deep Learning : It is part of machine Learning for solving complex problems or complex Datasets where nueral networks similar o human brain neurons are used which are \n",
    "### interconnected to each other \n",
    "##Eg. Classification of Animal Images"
   ]
  },
  {
   "cell_type": "markdown",
   "id": "121f249c-5a0b-4ee2-8d92-d7ac99d67540",
   "metadata": {},
   "source": [
    "Q2. What is Supervised Learning?List some examples of Supervised Learning"
   ]
  },
  {
   "cell_type": "code",
   "execution_count": 4,
   "id": "71200edf-5c44-406d-a684-5c04919f8cfa",
   "metadata": {},
   "outputs": [],
   "source": [
    "### Supervised Learning is defined as the Learning dependent variables are provided as labels along with  independent variables  to train the model.\n",
    "### Meaning the dataset will have labelled/output data along with input features.\n",
    "### Here it can be used for regression as well as classification problem."
   ]
  },
  {
   "cell_type": "code",
   "execution_count": 5,
   "id": "15951511-f805-4445-b7bb-21419339e380",
   "metadata": {},
   "outputs": [],
   "source": [
    "### Esamples:Using Linear Regression we can predict the price of house based on labelled data.\n",
    "### Linear Regression\n",
    "### Logistic Regression\n",
    "### Decision  Trees\n",
    "### Random Forest\n",
    "### Support Vector machines\n",
    "### Gradient Boosting"
   ]
  },
  {
   "cell_type": "markdown",
   "id": "8f3a474a-431c-46a9-b716-d5a5b020e915",
   "metadata": {},
   "source": [
    "Q3. What is unsupervised learning? List Some Examples."
   ]
  },
  {
   "cell_type": "code",
   "execution_count": 6,
   "id": "1d75774e-ef34-4370-ba54-5a588ddbc01a",
   "metadata": {},
   "outputs": [],
   "source": [
    "###  Unsupervised Larning is the Technique where only input features are present i.e. there is no output labelled data. \n",
    "## Eg. Cluster Algorithm: to classify images of dog or cat we can use Cluster algorithm\n",
    "##  Apriori\n",
    "## Heirarchical Algorithm"
   ]
  },
  {
   "cell_type": "markdown",
   "id": "41cfcadb-8d97-433f-981e-09a001a15aad",
   "metadata": {},
   "source": [
    "Q4. What is the Difference between AI,ML,DL and DS"
   ]
  },
  {
   "cell_type": "code",
   "execution_count": 7,
   "id": "fe656a17-ef3b-41e9-8158-d5dde9d4964d",
   "metadata": {},
   "outputs": [],
   "source": [
    "### AI : It is major area which uses ML, DL and other learnng process\n",
    "### ML : it is a subset of AI where machine train itself from the data\n",
    "#### Dl: It is a subset of ML which used neural networks and does not require any human intervention. for eg we do not need to select the features.\n",
    "### DS:Data Science (DS) is basically drawing insights from structured and unstructured data either by using ML or DL or without these techniques. \n",
    "### We can even use different visualization tools, statistics, and probability to gain these insights."
   ]
  },
  {
   "cell_type": "markdown",
   "id": "56f5851e-ee4c-42d5-b76f-c93c9bc50a21",
   "metadata": {},
   "source": [
    "Q5. What is the Main Difference between supervised,unsupervised and semi-supervised Learning"
   ]
  },
  {
   "cell_type": "code",
   "execution_count": 8,
   "id": "87ca3303-9e0f-4f2f-8095-a82ef63b4fc8",
   "metadata": {},
   "outputs": [],
   "source": [
    "## Supervised : It uses labelled data  to train the model\n",
    "## Unsupervised: it does not have labelled data\n",
    "### Semi -Supervised: It combines both supervised and unsupervised meaning In the dataset we have few labelled data and others unlabelled"
   ]
  },
  {
   "cell_type": "markdown",
   "id": "e31e1cfa-8b7d-4f68-ac45-8d428eb69ae1",
   "metadata": {},
   "source": [
    "Q6.What is train,test and validation split? Explain the importance of each term"
   ]
  },
  {
   "cell_type": "code",
   "execution_count": 9,
   "id": "7cfedbae-cab1-43dd-9477-892907217bc8",
   "metadata": {},
   "outputs": [],
   "source": [
    "## Train test split is a model validation process that allows you to simulate how your model would perform with new data.\n",
    "## Before building a model, we ned to identify the problem whether it is regression /Classification.\n",
    "## Once know what type of problem we split the datasets to train and test.\n",
    "## normally 80% is used for Training and remaning  20% are used for testing.\n",
    "### We train our model on training dataset meaning machine learns from train data. \n",
    "### Aftter the Training is done, testing is done on test data to check overfitiing issue."
   ]
  },
  {
   "cell_type": "markdown",
   "id": "b64e19a9-2431-48d7-b3a9-84fb0eef3b28",
   "metadata": {},
   "source": [
    "Q7. How can unsupervised Learning be used in anamoly detection"
   ]
  },
  {
   "cell_type": "code",
   "execution_count": 10,
   "id": "d3bef7f3-f9d4-4352-90b3-839f48cfe98e",
   "metadata": {},
   "outputs": [],
   "source": [
    "## Unsupervised learning uses cluster algorithm to find hidden patterns inside the data \n"
   ]
  },
  {
   "cell_type": "code",
   "execution_count": 11,
   "id": "39950f58-a39b-4c90-9af7-3166ec2dd18e",
   "metadata": {},
   "outputs": [],
   "source": [
    "## Anomaly is a synonym for the word ‘outlier’. Anomaly detection (or outlier detection) is the identification of rare items, events or observations which raise \n",
    "## suspicions by differing significantly from the majority of the data"
   ]
  },
  {
   "cell_type": "markdown",
   "id": "a2fe33a2-5c1a-4426-b860-1b3b2260583a",
   "metadata": {},
   "source": [
    "Q8. List some commonly used supervised and unsupervised learning algorithms."
   ]
  },
  {
   "cell_type": "code",
   "execution_count": 12,
   "id": "6c17c72d-4e41-4d10-8344-ef8159d41ee0",
   "metadata": {},
   "outputs": [],
   "source": [
    "## Supervised Learning\n",
    "### Linear Regression\n",
    "### Logistic Regression\n",
    "### Decision  Trees\n",
    "### Random Forest\n",
    "### Support Vector machines\n",
    "### Gradient Boosting"
   ]
  },
  {
   "cell_type": "code",
   "execution_count": 13,
   "id": "04d0b9bb-ed51-4dd3-ac57-fe81b989737c",
   "metadata": {},
   "outputs": [],
   "source": [
    "## Unsupervised Learning\n",
    "### Cluster algorithm\n",
    "##  Apriori\n",
    "## Heirarchical Algorithm\n",
    "## KNN "
   ]
  },
  {
   "cell_type": "code",
   "execution_count": null,
   "id": "383b9f50-6d49-40b0-a449-81745ed1a53e",
   "metadata": {},
   "outputs": [],
   "source": []
  }
 ],
 "metadata": {
  "kernelspec": {
   "display_name": "Python 3 (ipykernel)",
   "language": "python",
   "name": "python3"
  },
  "language_info": {
   "codemirror_mode": {
    "name": "ipython",
    "version": 3
   },
   "file_extension": ".py",
   "mimetype": "text/x-python",
   "name": "python",
   "nbconvert_exporter": "python",
   "pygments_lexer": "ipython3",
   "version": "3.10.8"
  }
 },
 "nbformat": 4,
 "nbformat_minor": 5
}
