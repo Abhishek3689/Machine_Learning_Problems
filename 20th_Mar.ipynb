{
 "cells": [
  {
   "cell_type": "markdown",
   "id": "20bdf978-0685-421c-a608-fd39d12249ef",
   "metadata": {},
   "source": [
    "Q1. What is data encoding? How is it useful in data science?"
   ]
  },
  {
   "cell_type": "code",
   "execution_count": 1,
   "id": "5b19223d-0135-4af9-be62-b055936adbd9",
   "metadata": {},
   "outputs": [],
   "source": [
    "### Data Encoding is a method by which we encode categorical data to some numeric values so that it is understood by machine "
   ]
  },
  {
   "cell_type": "code",
   "execution_count": 2,
   "id": "995e86fb-2fd6-4aac-8032-36806212e277",
   "metadata": {},
   "outputs": [],
   "source": [
    "## It is useful in builing model as machine dont understand categories and by converting into some numbers model works well so important in prediction "
   ]
  },
  {
   "cell_type": "markdown",
   "id": "8ff8c12e-9037-45c4-946a-d624eb822c73",
   "metadata": {},
   "source": [
    "Q2. What is nominal encoding? Provide an example of how you would use it in a real-world scenario."
   ]
  },
  {
   "cell_type": "code",
   "execution_count": 3,
   "id": "2d0d5bb2-08fb-4894-a3f7-c9b83ec90b50",
   "metadata": {},
   "outputs": [],
   "source": [
    "## Nominal Encoding also known as one hot encoding is conversion of categorical value to numeric in which each category is converted in distinct binary bit number representation"
   ]
  },
  {
   "cell_type": "code",
   "execution_count": 4,
   "id": "7f63882c-3ac6-4f3f-8714-a925f652eda7",
   "metadata": {},
   "outputs": [],
   "source": [
    "## Eg. cat ,dog and horse can be represented as"
   ]
  },
  {
   "cell_type": "code",
   "execution_count": 5,
   "id": "cf9c8648-f1b8-4b74-ad7f-01acbcb55cd5",
   "metadata": {},
   "outputs": [],
   "source": [
    "## cat [1 0 0]\n",
    "## dog [0 1 0]\n",
    "## horse [0 0 1]"
   ]
  },
  {
   "cell_type": "markdown",
   "id": "4bdbc4fc-4e02-4f4b-b873-a09ad7bbb83a",
   "metadata": {},
   "source": [
    "Q3. In what situations is nominal encoding preferred over one-hot encoding? Provide a practical example."
   ]
  },
  {
   "cell_type": "code",
   "execution_count": 6,
   "id": "2a1b4bf2-e092-48b8-a3af-e481cecb1a92",
   "metadata": {},
   "outputs": [],
   "source": [
    "## in ordinal encoding if we are converned about order/rank hen we can se ordinal encoding ove one hot encoding"
   ]
  },
  {
   "cell_type": "code",
   "execution_count": 7,
   "id": "062b96d1-28b0-4938-b537-6177a8611932",
   "metadata": {},
   "outputs": [],
   "source": [
    "## Eg if for education column we have values"
   ]
  },
  {
   "cell_type": "code",
   "execution_count": 8,
   "id": "7eaead8e-a36f-4ad6-831e-9aa4cbbcfba9",
   "metadata": {},
   "outputs": [],
   "source": [
    "## Middle shcool  \n",
    "## High School\n",
    "## Graducate\n",
    "## Post Gaduate"
   ]
  },
  {
   "cell_type": "code",
   "execution_count": 9,
   "id": "d565c938-c55b-47c0-8639-beddc2f57df6",
   "metadata": {},
   "outputs": [],
   "source": [
    "## In above case we can give ordinal encoding as [1,2,3,4]"
   ]
  },
  {
   "cell_type": "code",
   "execution_count": 10,
   "id": "c1fdedde-6d7e-49ee-b093-d3ab0bbd1847",
   "metadata": {},
   "outputs": [],
   "source": [
    "## Middle shcool  -  1\n",
    "## High School    -  2\n",
    "## Graducate      -  3\n",
    "## Post Gaduate   -  4"
   ]
  },
  {
   "cell_type": "markdown",
   "id": "9bdaa4c7-d5b9-4115-8caa-8d868238ae28",
   "metadata": {},
   "source": [
    "Q4. Suppose you have a dataset containing categorical data with 5 unique values. Which encoding\n",
    "technique would you use to transform this data into a format suitable for machine learning algorithms?\n",
    "Explain why you made this choice."
   ]
  },
  {
   "cell_type": "code",
   "execution_count": 11,
   "id": "0b04a181-2548-442e-b6f5-aef6f1a0f5a7",
   "metadata": {},
   "outputs": [],
   "source": [
    "## If Categorical has 5 unique values then I will use One hot encoding as the caegories are low and bit by bit representation will not impact each other or there is no such preferences \n",
    "## to any of the category which would have been in case of label encoding."
   ]
  },
  {
   "cell_type": "markdown",
   "id": "e5ecb0b1-0566-4c9f-96d9-a21297ace812",
   "metadata": {},
   "source": [
    "Q5. In a machine learning project, you have a dataset with 1000 rows and 5 columns. Two of the columns\n",
    "are categorical, and the remaining three columns are numerical. If you were to use nominal encoding to\n",
    "transform the categorical data, how many new columns would be created? Show your calculations."
   ]
  },
  {
   "cell_type": "code",
   "execution_count": 12,
   "id": "e5f51d0d-3df9-4805-b0ff-f4f04b1e2798",
   "metadata": {},
   "outputs": [],
   "source": [
    "## If there are total 5 columns, in which 2 are categorical then we need to first check how many unique values are there in each category column.\n",
    "## for eg if first categorical column has 3 unique category then 3 columns will be added for these 3 catogories and second categorical column has 4 unique values then 4 new columns \n",
    "## will be created for these 4 catogries so in total  7 additonal columns wil be created.\n",
    "## Also we need to drop the two original categories column as these have been nominal encoded.\n",
    "## By this we have [5(original)+7(encoded)-2(original category)]=10 columns will be there"
   ]
  },
  {
   "cell_type": "markdown",
   "id": "58edaf73-9389-44d6-9176-cd34c7a4cb60",
   "metadata": {},
   "source": [
    "Q6. You are working with a dataset containing information about different types of animals, including their\n",
    "species, habitat, and diet. Which encoding technique would you use to transform the categorical data into\n",
    "a format suitable for machine learning algorithms? Justify your answer."
   ]
  },
  {
   "cell_type": "code",
   "execution_count": 13,
   "id": "7a51abfa-0a9b-4a79-8ae1-7f4a69033f46",
   "metadata": {},
   "outputs": [],
   "source": [
    "## if the categorical columns unique values are less then we can go ahead with the nominal encoding but if there is large unique number of categories then \n",
    "## it would be better to go with label encoding as it will avoid complexity of the problems.\n",
    "### because if there are 100 of animals with there sepecies, habitat and diet then, there can be possibility of 1000 combination columns in case of nominal encoding\n",
    "## which will be timeconsuming and complexity. So if we do label encoding we can avoid this complexity"
   ]
  },
  {
   "cell_type": "markdown",
   "id": "4d2a839f-cf03-4450-ae5e-cb553f3caf4f",
   "metadata": {},
   "source": [
    "Q7.You are working on a project that involves predicting customer churn for a telecommunications\n",
    "company. You have a dataset with 5 features, including the customer's gender, age, contract type,\n",
    "monthly charges, and tenure. Which encoding technique(s) would you use to transform the categorical\n",
    "data into numerical data? Provide a step-by-step explanation of how you would implement the encoding."
   ]
  },
  {
   "cell_type": "code",
   "execution_count": 14,
   "id": "73eaf7ee-87c3-4ed9-9b40-29ae40ea60fa",
   "metadata": {},
   "outputs": [],
   "source": [
    "## From above problems we have two categorical column Gender and Contract Type"
   ]
  },
  {
   "cell_type": "code",
   "execution_count": 15,
   "id": "222f70c0-94ba-49b5-8a3a-83aea5eb938d",
   "metadata": {},
   "outputs": [],
   "source": [
    "## Since Gender can have max of 2 or 3 unique values and also from Contract type it does not seem that more than 5 to 10 unique values will present"
   ]
  },
  {
   "cell_type": "code",
   "execution_count": 16,
   "id": "d864a7d2-c1d2-4008-a479-1f0bdbc96766",
   "metadata": {},
   "outputs": [],
   "source": [
    "## In this scenerio I can definetly go with Nominal Encoding"
   ]
  },
  {
   "cell_type": "code",
   "execution_count": 17,
   "id": "1e7191a9-e8a4-4ac3-a4fe-9a937d5c8d36",
   "metadata": {},
   "outputs": [],
   "source": [
    "## I will import OneHotEncoding from sklearn.preprocessing"
   ]
  },
  {
   "cell_type": "code",
   "execution_count": 18,
   "id": "5f2c0419-f3b1-49a6-9c9d-4f551416a2bc",
   "metadata": {},
   "outputs": [],
   "source": [
    "from sklearn.preprocessing import OneHotEncoder"
   ]
  },
  {
   "cell_type": "code",
   "execution_count": 19,
   "id": "f3b61591-c059-4a61-8c78-5a07dd29c9e1",
   "metadata": {},
   "outputs": [],
   "source": [
    "## Then we can transform the data using encoder.fit_transform(data) to get the one hot encoding "
   ]
  },
  {
   "cell_type": "code",
   "execution_count": null,
   "id": "29c0f0ed-74b0-4996-990b-b19779e4a32d",
   "metadata": {},
   "outputs": [],
   "source": []
  }
 ],
 "metadata": {
  "kernelspec": {
   "display_name": "Python 3 (ipykernel)",
   "language": "python",
   "name": "python3"
  },
  "language_info": {
   "codemirror_mode": {
    "name": "ipython",
    "version": 3
   },
   "file_extension": ".py",
   "mimetype": "text/x-python",
   "name": "python",
   "nbconvert_exporter": "python",
   "pygments_lexer": "ipython3",
   "version": "3.10.8"
  }
 },
 "nbformat": 4,
 "nbformat_minor": 5
}
