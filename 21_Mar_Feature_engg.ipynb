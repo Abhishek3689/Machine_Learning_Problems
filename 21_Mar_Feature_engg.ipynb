{
 "cells": [
  {
   "cell_type": "markdown",
   "id": "fdeec51a-2599-4ade-a06c-e7ce8abf04ae",
   "metadata": {},
   "source": [
    "Q1. What is the difference between Ordinal Encoding and Label Encoding? Provide an example of when you\n",
    "might choose one over the other."
   ]
  },
  {
   "cell_type": "code",
   "execution_count": 1,
   "id": "e55bd1d5-f71a-4efd-9bac-84d7a30f5727",
   "metadata": {},
   "outputs": [],
   "source": [
    "## Ordinal Encoding is used when importance is given basis rank or order while Label encoding dont need any rank/order"
   ]
  },
  {
   "cell_type": "code",
   "execution_count": 2,
   "id": "00ae7a40-4f27-4656-8d6a-ac212ee07133",
   "metadata": {},
   "outputs": [],
   "source": [
    "## Eg. if there is column data Education with categorical values \n",
    "# 1.High School\n",
    "# 2 Graduation\n",
    "# 3. Post Graduation "
   ]
  },
  {
   "cell_type": "code",
   "execution_count": 3,
   "id": "f117f4d2-dc8e-439f-8d5e-d2b841429d81",
   "metadata": {},
   "outputs": [],
   "source": [
    "## In above case rank/order is important so we assign \n",
    "# High School -1\n",
    "# Graduation -2\n",
    "# Post Graduation -3 \n",
    "\n",
    "# The above notaion use Label encoding"
   ]
  },
  {
   "cell_type": "markdown",
   "id": "e6e2299d-6d14-44f1-b0b6-5537efb0ddac",
   "metadata": {},
   "source": [
    "Q2. Explain how Target Guided Ordinal Encoding works and provide an example of when you might use it in\n",
    "a machine learning project."
   ]
  },
  {
   "cell_type": "code",
   "execution_count": 4,
   "id": "e9dd46fa-1a3b-4bca-8d48-ba6f91317ff6",
   "metadata": {},
   "outputs": [],
   "source": [
    "## Target Guided Ordinal Encoding \n",
    "## It is a technique used to encode categorical variables based on their relationship with the target variable. \n",
    "## This encoding technique is useful when we have a categorical variable with a large number of unique categories, \n",
    "## and we want to use this variable as a feature in our machine learning model"
   ]
  },
  {
   "cell_type": "code",
   "execution_count": 5,
   "id": "03445c55-3a8d-4bbd-a7f0-a8bd835e2d3b",
   "metadata": {},
   "outputs": [],
   "source": [
    "## for egample there are multiple stocks and their values at different dates then we can use Target Guided Ordinal Encoding to get the Mean Price"
   ]
  },
  {
   "cell_type": "code",
   "execution_count": 6,
   "id": "4e080a15-d7b4-4d9f-911a-373caafe606e",
   "metadata": {},
   "outputs": [],
   "source": [
    "import pandas as pd"
   ]
  },
  {
   "cell_type": "code",
   "execution_count": 7,
   "id": "142c4307-44a7-4d4a-8d20-3037dfcdaaec",
   "metadata": {},
   "outputs": [],
   "source": [
    "df=pd.DataFrame({\"Stock\":[\"Apple\",\"Microsoft\",\"Google\",\"Amazon\",\"Apple\",\"Google\"],'Day':['Monday','Monday','Tuesday','Monday','Wednesday','Thursday'],'Price':[2000,2500,5000,4000,2200,3800]})"
   ]
  },
  {
   "cell_type": "code",
   "execution_count": 8,
   "id": "1c101f0a-1e9e-4208-b2d1-91d195a54cfc",
   "metadata": {},
   "outputs": [
    {
     "data": {
      "text/html": [
       "<div>\n",
       "<style scoped>\n",
       "    .dataframe tbody tr th:only-of-type {\n",
       "        vertical-align: middle;\n",
       "    }\n",
       "\n",
       "    .dataframe tbody tr th {\n",
       "        vertical-align: top;\n",
       "    }\n",
       "\n",
       "    .dataframe thead th {\n",
       "        text-align: right;\n",
       "    }\n",
       "</style>\n",
       "<table border=\"1\" class=\"dataframe\">\n",
       "  <thead>\n",
       "    <tr style=\"text-align: right;\">\n",
       "      <th></th>\n",
       "      <th>Stock</th>\n",
       "      <th>Day</th>\n",
       "      <th>Price</th>\n",
       "    </tr>\n",
       "  </thead>\n",
       "  <tbody>\n",
       "    <tr>\n",
       "      <th>0</th>\n",
       "      <td>Apple</td>\n",
       "      <td>Monday</td>\n",
       "      <td>2000</td>\n",
       "    </tr>\n",
       "    <tr>\n",
       "      <th>1</th>\n",
       "      <td>Microsoft</td>\n",
       "      <td>Monday</td>\n",
       "      <td>2500</td>\n",
       "    </tr>\n",
       "    <tr>\n",
       "      <th>2</th>\n",
       "      <td>Google</td>\n",
       "      <td>Tuesday</td>\n",
       "      <td>5000</td>\n",
       "    </tr>\n",
       "    <tr>\n",
       "      <th>3</th>\n",
       "      <td>Amazon</td>\n",
       "      <td>Monday</td>\n",
       "      <td>4000</td>\n",
       "    </tr>\n",
       "    <tr>\n",
       "      <th>4</th>\n",
       "      <td>Apple</td>\n",
       "      <td>Wednesday</td>\n",
       "      <td>2200</td>\n",
       "    </tr>\n",
       "    <tr>\n",
       "      <th>5</th>\n",
       "      <td>Google</td>\n",
       "      <td>Thursday</td>\n",
       "      <td>3800</td>\n",
       "    </tr>\n",
       "  </tbody>\n",
       "</table>\n",
       "</div>"
      ],
      "text/plain": [
       "       Stock        Day  Price\n",
       "0      Apple     Monday   2000\n",
       "1  Microsoft     Monday   2500\n",
       "2     Google    Tuesday   5000\n",
       "3     Amazon     Monday   4000\n",
       "4      Apple  Wednesday   2200\n",
       "5     Google   Thursday   3800"
      ]
     },
     "execution_count": 8,
     "metadata": {},
     "output_type": "execute_result"
    }
   ],
   "source": [
    "df"
   ]
  },
  {
   "cell_type": "code",
   "execution_count": 9,
   "id": "4abd6bcc-9393-4fe5-9a11-d4375d800108",
   "metadata": {},
   "outputs": [],
   "source": [
    "dict_new=df.groupby('Stock')['Price'].mean().to_dict()"
   ]
  },
  {
   "cell_type": "code",
   "execution_count": 10,
   "id": "825e865f-2380-47e1-8365-14f336421ec9",
   "metadata": {},
   "outputs": [
    {
     "data": {
      "text/plain": [
       "{'Amazon': 4000.0, 'Apple': 2100.0, 'Google': 4400.0, 'Microsoft': 2500.0}"
      ]
     },
     "execution_count": 10,
     "metadata": {},
     "output_type": "execute_result"
    }
   ],
   "source": [
    "dict_new"
   ]
  },
  {
   "cell_type": "code",
   "execution_count": 11,
   "id": "07aa10e6-a456-4a15-b284-a44eb48453f3",
   "metadata": {},
   "outputs": [],
   "source": [
    "df['stock_encoded']=df['Stock'].map(dict_new)"
   ]
  },
  {
   "cell_type": "code",
   "execution_count": 12,
   "id": "7d7b7359-04e8-4a21-9c5a-ce7bae45c22e",
   "metadata": {},
   "outputs": [
    {
     "data": {
      "text/html": [
       "<div>\n",
       "<style scoped>\n",
       "    .dataframe tbody tr th:only-of-type {\n",
       "        vertical-align: middle;\n",
       "    }\n",
       "\n",
       "    .dataframe tbody tr th {\n",
       "        vertical-align: top;\n",
       "    }\n",
       "\n",
       "    .dataframe thead th {\n",
       "        text-align: right;\n",
       "    }\n",
       "</style>\n",
       "<table border=\"1\" class=\"dataframe\">\n",
       "  <thead>\n",
       "    <tr style=\"text-align: right;\">\n",
       "      <th></th>\n",
       "      <th>Stock</th>\n",
       "      <th>Day</th>\n",
       "      <th>Price</th>\n",
       "      <th>stock_encoded</th>\n",
       "    </tr>\n",
       "  </thead>\n",
       "  <tbody>\n",
       "    <tr>\n",
       "      <th>0</th>\n",
       "      <td>Apple</td>\n",
       "      <td>Monday</td>\n",
       "      <td>2000</td>\n",
       "      <td>2100.0</td>\n",
       "    </tr>\n",
       "    <tr>\n",
       "      <th>1</th>\n",
       "      <td>Microsoft</td>\n",
       "      <td>Monday</td>\n",
       "      <td>2500</td>\n",
       "      <td>2500.0</td>\n",
       "    </tr>\n",
       "    <tr>\n",
       "      <th>2</th>\n",
       "      <td>Google</td>\n",
       "      <td>Tuesday</td>\n",
       "      <td>5000</td>\n",
       "      <td>4400.0</td>\n",
       "    </tr>\n",
       "    <tr>\n",
       "      <th>3</th>\n",
       "      <td>Amazon</td>\n",
       "      <td>Monday</td>\n",
       "      <td>4000</td>\n",
       "      <td>4000.0</td>\n",
       "    </tr>\n",
       "    <tr>\n",
       "      <th>4</th>\n",
       "      <td>Apple</td>\n",
       "      <td>Wednesday</td>\n",
       "      <td>2200</td>\n",
       "      <td>2100.0</td>\n",
       "    </tr>\n",
       "    <tr>\n",
       "      <th>5</th>\n",
       "      <td>Google</td>\n",
       "      <td>Thursday</td>\n",
       "      <td>3800</td>\n",
       "      <td>4400.0</td>\n",
       "    </tr>\n",
       "  </tbody>\n",
       "</table>\n",
       "</div>"
      ],
      "text/plain": [
       "       Stock        Day  Price  stock_encoded\n",
       "0      Apple     Monday   2000         2100.0\n",
       "1  Microsoft     Monday   2500         2500.0\n",
       "2     Google    Tuesday   5000         4400.0\n",
       "3     Amazon     Monday   4000         4000.0\n",
       "4      Apple  Wednesday   2200         2100.0\n",
       "5     Google   Thursday   3800         4400.0"
      ]
     },
     "execution_count": 12,
     "metadata": {},
     "output_type": "execute_result"
    }
   ],
   "source": [
    "df"
   ]
  },
  {
   "cell_type": "code",
   "execution_count": 13,
   "id": "fd7d1b58-84db-4262-a454-89458c123663",
   "metadata": {},
   "outputs": [
    {
     "data": {
      "text/html": [
       "<div>\n",
       "<style scoped>\n",
       "    .dataframe tbody tr th:only-of-type {\n",
       "        vertical-align: middle;\n",
       "    }\n",
       "\n",
       "    .dataframe tbody tr th {\n",
       "        vertical-align: top;\n",
       "    }\n",
       "\n",
       "    .dataframe thead th {\n",
       "        text-align: right;\n",
       "    }\n",
       "</style>\n",
       "<table border=\"1\" class=\"dataframe\">\n",
       "  <thead>\n",
       "    <tr style=\"text-align: right;\">\n",
       "      <th></th>\n",
       "      <th>Price</th>\n",
       "      <th>stock_encoded</th>\n",
       "    </tr>\n",
       "  </thead>\n",
       "  <tbody>\n",
       "    <tr>\n",
       "      <th>0</th>\n",
       "      <td>2000</td>\n",
       "      <td>2100.0</td>\n",
       "    </tr>\n",
       "    <tr>\n",
       "      <th>1</th>\n",
       "      <td>2500</td>\n",
       "      <td>2500.0</td>\n",
       "    </tr>\n",
       "    <tr>\n",
       "      <th>2</th>\n",
       "      <td>5000</td>\n",
       "      <td>4400.0</td>\n",
       "    </tr>\n",
       "    <tr>\n",
       "      <th>3</th>\n",
       "      <td>4000</td>\n",
       "      <td>4000.0</td>\n",
       "    </tr>\n",
       "    <tr>\n",
       "      <th>4</th>\n",
       "      <td>2200</td>\n",
       "      <td>2100.0</td>\n",
       "    </tr>\n",
       "    <tr>\n",
       "      <th>5</th>\n",
       "      <td>3800</td>\n",
       "      <td>4400.0</td>\n",
       "    </tr>\n",
       "  </tbody>\n",
       "</table>\n",
       "</div>"
      ],
      "text/plain": [
       "   Price  stock_encoded\n",
       "0   2000         2100.0\n",
       "1   2500         2500.0\n",
       "2   5000         4400.0\n",
       "3   4000         4000.0\n",
       "4   2200         2100.0\n",
       "5   3800         4400.0"
      ]
     },
     "execution_count": 13,
     "metadata": {},
     "output_type": "execute_result"
    }
   ],
   "source": [
    "df[[\"Price\",'stock_encoded']]"
   ]
  },
  {
   "cell_type": "markdown",
   "id": "bf89fa43-9df6-4ea9-aff3-512aec9f528d",
   "metadata": {},
   "source": [
    "Q3. Define covariance and explain why it is important in statistical analysis. How is covariance calculated?"
   ]
  },
  {
   "cell_type": "code",
   "execution_count": 14,
   "id": "1f8ba285-0811-4309-ae36-5ea856ae8b34",
   "metadata": {},
   "outputs": [],
   "source": [
    "## . Covariance is a measured use to determine how much variable change in randomly. The covariance is a product of the units of the two variables."
   ]
  },
  {
   "cell_type": "code",
   "execution_count": 15,
   "id": "751e90ef-aa86-4a42-8411-c48608ed4430",
   "metadata": {},
   "outputs": [],
   "source": [
    "## If increase in one variable results in increase in other variable we say it is positive covriance , Decrease in other results in decrease of other.\n",
    "## if increase in one results decrease in other then it is negative covariance"
   ]
  },
  {
   "cell_type": "code",
   "execution_count": 16,
   "id": "7ee684b2-a679-492e-a8bc-aac18df79b54",
   "metadata": {},
   "outputs": [],
   "source": [
    "## It is important in statistical as Generally use the data science field for comparing data samples from different populations, \n",
    "## and covariance is used to determine how much two random variables to each other."
   ]
  },
  {
   "attachments": {
    "301e19c2-cb86-4890-ad95-ff53b357c7e3.png": {
     "image/png": "[encoded data removed]"
    }
   },
   "cell_type": "markdown",
   "id": "44c6c93e-29db-4b35-957b-385e8c19531d",
   "metadata": {},
   "source": [
    "![image.png](attachment:301e19c2-cb86-4890-ad95-ff53b357c7e3.png)"
   ]
  },
  {
   "cell_type": "markdown",
   "id": "a6e0953c-f57d-4345-9c7e-511cf082c518",
   "metadata": {},
   "source": [
    "Q4. For a dataset with the following categorical variables: Color (red, green, blue), Size (small, medium,\n",
    "large), and Material (wood, metal, plastic), perform label encoding using Python's scikit-learn library.\n",
    "Show your code and explain the output."
   ]
  },
  {
   "cell_type": "code",
   "execution_count": 17,
   "id": "3a344714-cc2a-4355-acce-d9b63bc4317c",
   "metadata": {},
   "outputs": [],
   "source": [
    "df=pd.DataFrame({\"Color\":['red','green','blue'],\"Size\":['small','medium','large'],\"Material\":['wood','metal','plastic']})"
   ]
  },
  {
   "cell_type": "code",
   "execution_count": 18,
   "id": "45c829a7-6f96-4dae-bab2-5d92445a4a2d",
   "metadata": {},
   "outputs": [
    {
     "data": {
      "text/html": [
       "<div>\n",
       "<style scoped>\n",
       "    .dataframe tbody tr th:only-of-type {\n",
       "        vertical-align: middle;\n",
       "    }\n",
       "\n",
       "    .dataframe tbody tr th {\n",
       "        vertical-align: top;\n",
       "    }\n",
       "\n",
       "    .dataframe thead th {\n",
       "        text-align: right;\n",
       "    }\n",
       "</style>\n",
       "<table border=\"1\" class=\"dataframe\">\n",
       "  <thead>\n",
       "    <tr style=\"text-align: right;\">\n",
       "      <th></th>\n",
       "      <th>Color</th>\n",
       "      <th>Size</th>\n",
       "      <th>Material</th>\n",
       "    </tr>\n",
       "  </thead>\n",
       "  <tbody>\n",
       "    <tr>\n",
       "      <th>0</th>\n",
       "      <td>red</td>\n",
       "      <td>small</td>\n",
       "      <td>wood</td>\n",
       "    </tr>\n",
       "    <tr>\n",
       "      <th>1</th>\n",
       "      <td>green</td>\n",
       "      <td>medium</td>\n",
       "      <td>metal</td>\n",
       "    </tr>\n",
       "    <tr>\n",
       "      <th>2</th>\n",
       "      <td>blue</td>\n",
       "      <td>large</td>\n",
       "      <td>plastic</td>\n",
       "    </tr>\n",
       "  </tbody>\n",
       "</table>\n",
       "</div>"
      ],
      "text/plain": [
       "   Color    Size Material\n",
       "0    red   small     wood\n",
       "1  green  medium    metal\n",
       "2   blue   large  plastic"
      ]
     },
     "execution_count": 18,
     "metadata": {},
     "output_type": "execute_result"
    }
   ],
   "source": [
    "df"
   ]
  },
  {
   "cell_type": "code",
   "execution_count": null,
   "id": "157d0fc7-4f2b-4701-8481-5ae0f30c3896",
   "metadata": {},
   "outputs": [],
   "source": []
  },
  {
   "cell_type": "code",
   "execution_count": 19,
   "id": "8a2ed6ff-c8cf-45c7-9156-672abdff34b8",
   "metadata": {},
   "outputs": [],
   "source": [
    "from sklearn.preprocessing import LabelEncoder"
   ]
  },
  {
   "cell_type": "code",
   "execution_count": 20,
   "id": "97eb27e6-35cd-433b-a239-381b50b6dd78",
   "metadata": {},
   "outputs": [],
   "source": [
    "le=LabelEncoder()"
   ]
  },
  {
   "cell_type": "code",
   "execution_count": 21,
   "id": "7a8db94d-ad8d-4b3d-a859-0ce87ef803ea",
   "metadata": {},
   "outputs": [],
   "source": [
    "df_new=df.apply(le.fit_transform)"
   ]
  },
  {
   "cell_type": "code",
   "execution_count": 22,
   "id": "d8908157-8102-42fd-ad0e-e1d77601cf26",
   "metadata": {},
   "outputs": [
    {
     "data": {
      "text/html": [
       "<div>\n",
       "<style scoped>\n",
       "    .dataframe tbody tr th:only-of-type {\n",
       "        vertical-align: middle;\n",
       "    }\n",
       "\n",
       "    .dataframe tbody tr th {\n",
       "        vertical-align: top;\n",
       "    }\n",
       "\n",
       "    .dataframe thead th {\n",
       "        text-align: right;\n",
       "    }\n",
       "</style>\n",
       "<table border=\"1\" class=\"dataframe\">\n",
       "  <thead>\n",
       "    <tr style=\"text-align: right;\">\n",
       "      <th></th>\n",
       "      <th>Color</th>\n",
       "      <th>Size</th>\n",
       "      <th>Material</th>\n",
       "    </tr>\n",
       "  </thead>\n",
       "  <tbody>\n",
       "    <tr>\n",
       "      <th>0</th>\n",
       "      <td>2</td>\n",
       "      <td>2</td>\n",
       "      <td>2</td>\n",
       "    </tr>\n",
       "    <tr>\n",
       "      <th>1</th>\n",
       "      <td>1</td>\n",
       "      <td>1</td>\n",
       "      <td>0</td>\n",
       "    </tr>\n",
       "    <tr>\n",
       "      <th>2</th>\n",
       "      <td>0</td>\n",
       "      <td>0</td>\n",
       "      <td>1</td>\n",
       "    </tr>\n",
       "  </tbody>\n",
       "</table>\n",
       "</div>"
      ],
      "text/plain": [
       "   Color  Size  Material\n",
       "0      2     2         2\n",
       "1      1     1         0\n",
       "2      0     0         1"
      ]
     },
     "execution_count": 22,
     "metadata": {},
     "output_type": "execute_result"
    }
   ],
   "source": [
    "df_new"
   ]
  },
  {
   "cell_type": "markdown",
   "id": "fe5bb074-c81c-4d56-882c-1719847a4bb2",
   "metadata": {},
   "source": [
    "Q5. Calculate the covariance matrix for the following variables in a dataset: Age, Income, and Education\n",
    "level. Interpret the results."
   ]
  },
  {
   "cell_type": "code",
   "execution_count": 23,
   "id": "b37f3127-ee67-477f-adb9-688e4132111b",
   "metadata": {},
   "outputs": [],
   "source": [
    "df_qulaification=pd.DataFrame({\"Age\":[30,34,28,35,25,31],\"Income\":[50000,75000,40000,45000,25000,20000],'Education':['Graduate','Post Graduate','Graduate','College','Graduate','High School']})"
   ]
  },
  {
   "cell_type": "code",
   "execution_count": 24,
   "id": "4e06e33d-c4a9-4eea-b141-313091dda018",
   "metadata": {},
   "outputs": [
    {
     "data": {
      "text/html": [
       "<div>\n",
       "<style scoped>\n",
       "    .dataframe tbody tr th:only-of-type {\n",
       "        vertical-align: middle;\n",
       "    }\n",
       "\n",
       "    .dataframe tbody tr th {\n",
       "        vertical-align: top;\n",
       "    }\n",
       "\n",
       "    .dataframe thead th {\n",
       "        text-align: right;\n",
       "    }\n",
       "</style>\n",
       "<table border=\"1\" class=\"dataframe\">\n",
       "  <thead>\n",
       "    <tr style=\"text-align: right;\">\n",
       "      <th></th>\n",
       "      <th>Age</th>\n",
       "      <th>Income</th>\n",
       "      <th>Education</th>\n",
       "    </tr>\n",
       "  </thead>\n",
       "  <tbody>\n",
       "    <tr>\n",
       "      <th>0</th>\n",
       "      <td>30</td>\n",
       "      <td>50000</td>\n",
       "      <td>Graduate</td>\n",
       "    </tr>\n",
       "    <tr>\n",
       "      <th>1</th>\n",
       "      <td>34</td>\n",
       "      <td>75000</td>\n",
       "      <td>Post Graduate</td>\n",
       "    </tr>\n",
       "    <tr>\n",
       "      <th>2</th>\n",
       "      <td>28</td>\n",
       "      <td>40000</td>\n",
       "      <td>Graduate</td>\n",
       "    </tr>\n",
       "    <tr>\n",
       "      <th>3</th>\n",
       "      <td>35</td>\n",
       "      <td>45000</td>\n",
       "      <td>College</td>\n",
       "    </tr>\n",
       "    <tr>\n",
       "      <th>4</th>\n",
       "      <td>25</td>\n",
       "      <td>25000</td>\n",
       "      <td>Graduate</td>\n",
       "    </tr>\n",
       "    <tr>\n",
       "      <th>5</th>\n",
       "      <td>31</td>\n",
       "      <td>20000</td>\n",
       "      <td>High School</td>\n",
       "    </tr>\n",
       "  </tbody>\n",
       "</table>\n",
       "</div>"
      ],
      "text/plain": [
       "   Age  Income      Education\n",
       "0   30   50000       Graduate\n",
       "1   34   75000  Post Graduate\n",
       "2   28   40000       Graduate\n",
       "3   35   45000        College\n",
       "4   25   25000       Graduate\n",
       "5   31   20000    High School"
      ]
     },
     "execution_count": 24,
     "metadata": {},
     "output_type": "execute_result"
    }
   ],
   "source": [
    "df_qulaification"
   ]
  },
  {
   "cell_type": "code",
   "execution_count": 25,
   "id": "8b55dacd-0c33-45c7-aefc-e8ee63889309",
   "metadata": {},
   "outputs": [],
   "source": [
    "from sklearn.preprocessing import OrdinalEncoder"
   ]
  },
  {
   "cell_type": "code",
   "execution_count": 26,
   "id": "cb65cb3a-71f2-45f0-91a2-c66d9f1ccbca",
   "metadata": {},
   "outputs": [],
   "source": [
    "encoder=OrdinalEncoder(categories=[['High School','College','Graduate','Post Graduate']])"
   ]
  },
  {
   "cell_type": "code",
   "execution_count": 27,
   "id": "1190f8f7-26c7-4fb4-933e-450ec5fbfa31",
   "metadata": {},
   "outputs": [],
   "source": [
    "edu_array=encoder.fit_transform(df_qulaification[['Education']])"
   ]
  },
  {
   "cell_type": "code",
   "execution_count": 28,
   "id": "6beaa8af-f47c-41d0-bd08-0e9433caeef1",
   "metadata": {},
   "outputs": [],
   "source": [
    "df_qulaification['Education_encode']=pd.DataFrame(edu_array)"
   ]
  },
  {
   "cell_type": "code",
   "execution_count": 29,
   "id": "4a89812d-8267-4f30-867c-cf2400584a51",
   "metadata": {},
   "outputs": [
    {
     "data": {
      "text/html": [
       "<div>\n",
       "<style scoped>\n",
       "    .dataframe tbody tr th:only-of-type {\n",
       "        vertical-align: middle;\n",
       "    }\n",
       "\n",
       "    .dataframe tbody tr th {\n",
       "        vertical-align: top;\n",
       "    }\n",
       "\n",
       "    .dataframe thead th {\n",
       "        text-align: right;\n",
       "    }\n",
       "</style>\n",
       "<table border=\"1\" class=\"dataframe\">\n",
       "  <thead>\n",
       "    <tr style=\"text-align: right;\">\n",
       "      <th></th>\n",
       "      <th>Age</th>\n",
       "      <th>Income</th>\n",
       "      <th>Education</th>\n",
       "      <th>Education_encode</th>\n",
       "    </tr>\n",
       "  </thead>\n",
       "  <tbody>\n",
       "    <tr>\n",
       "      <th>0</th>\n",
       "      <td>30</td>\n",
       "      <td>50000</td>\n",
       "      <td>Graduate</td>\n",
       "      <td>2.0</td>\n",
       "    </tr>\n",
       "    <tr>\n",
       "      <th>1</th>\n",
       "      <td>34</td>\n",
       "      <td>75000</td>\n",
       "      <td>Post Graduate</td>\n",
       "      <td>3.0</td>\n",
       "    </tr>\n",
       "    <tr>\n",
       "      <th>2</th>\n",
       "      <td>28</td>\n",
       "      <td>40000</td>\n",
       "      <td>Graduate</td>\n",
       "      <td>2.0</td>\n",
       "    </tr>\n",
       "    <tr>\n",
       "      <th>3</th>\n",
       "      <td>35</td>\n",
       "      <td>45000</td>\n",
       "      <td>College</td>\n",
       "      <td>1.0</td>\n",
       "    </tr>\n",
       "    <tr>\n",
       "      <th>4</th>\n",
       "      <td>25</td>\n",
       "      <td>25000</td>\n",
       "      <td>Graduate</td>\n",
       "      <td>2.0</td>\n",
       "    </tr>\n",
       "    <tr>\n",
       "      <th>5</th>\n",
       "      <td>31</td>\n",
       "      <td>20000</td>\n",
       "      <td>High School</td>\n",
       "      <td>0.0</td>\n",
       "    </tr>\n",
       "  </tbody>\n",
       "</table>\n",
       "</div>"
      ],
      "text/plain": [
       "   Age  Income      Education  Education_encode\n",
       "0   30   50000       Graduate               2.0\n",
       "1   34   75000  Post Graduate               3.0\n",
       "2   28   40000       Graduate               2.0\n",
       "3   35   45000        College               1.0\n",
       "4   25   25000       Graduate               2.0\n",
       "5   31   20000    High School               0.0"
      ]
     },
     "execution_count": 29,
     "metadata": {},
     "output_type": "execute_result"
    }
   ],
   "source": [
    "df_qulaification"
   ]
  },
  {
   "cell_type": "code",
   "execution_count": 30,
   "id": "6c201f90-c2e1-4502-a747-a9e9e9d95a87",
   "metadata": {},
   "outputs": [
    {
     "name": "stderr",
     "output_type": "stream",
     "text": [
      "/tmp/ipykernel_1652/131429276.py:1: FutureWarning: The default value of numeric_only in DataFrame.cov is deprecated. In a future version, it will default to False. Select only valid columns or specify the value of numeric_only to silence this warning.\n",
      "  df_qulaification.cov()\n"
     ]
    },
    {
     "data": {
      "text/html": [
       "<div>\n",
       "<style scoped>\n",
       "    .dataframe tbody tr th:only-of-type {\n",
       "        vertical-align: middle;\n",
       "    }\n",
       "\n",
       "    .dataframe tbody tr th {\n",
       "        vertical-align: top;\n",
       "    }\n",
       "\n",
       "    .dataframe thead th {\n",
       "        text-align: right;\n",
       "    }\n",
       "</style>\n",
       "<table border=\"1\" class=\"dataframe\">\n",
       "  <thead>\n",
       "    <tr style=\"text-align: right;\">\n",
       "      <th></th>\n",
       "      <th>Age</th>\n",
       "      <th>Income</th>\n",
       "      <th>Education_encode</th>\n",
       "    </tr>\n",
       "  </thead>\n",
       "  <tbody>\n",
       "    <tr>\n",
       "      <th>Age</th>\n",
       "      <td>13.9</td>\n",
       "      <td>42500.0</td>\n",
       "      <td>-0.400000</td>\n",
       "    </tr>\n",
       "    <tr>\n",
       "      <th>Income</th>\n",
       "      <td>42500.0</td>\n",
       "      <td>387500000.0</td>\n",
       "      <td>15000.000000</td>\n",
       "    </tr>\n",
       "    <tr>\n",
       "      <th>Education_encode</th>\n",
       "      <td>-0.4</td>\n",
       "      <td>15000.0</td>\n",
       "      <td>1.066667</td>\n",
       "    </tr>\n",
       "  </tbody>\n",
       "</table>\n",
       "</div>"
      ],
      "text/plain": [
       "                      Age       Income  Education_encode\n",
       "Age                  13.9      42500.0         -0.400000\n",
       "Income            42500.0  387500000.0      15000.000000\n",
       "Education_encode     -0.4      15000.0          1.066667"
      ]
     },
     "execution_count": 30,
     "metadata": {},
     "output_type": "execute_result"
    }
   ],
   "source": [
    "df_qulaification.cov()"
   ]
  },
  {
   "cell_type": "code",
   "execution_count": 31,
   "id": "b0c38235-692d-4d29-a3d4-82eb83bce29d",
   "metadata": {},
   "outputs": [],
   "source": [
    "## We find that age and education is least covariance\n",
    "## Income and age are highly covariance\n",
    "## Income and Education has also High Covariance"
   ]
  },
  {
   "cell_type": "markdown",
   "id": "5ec03686-b601-414a-a161-2fcb321925aa",
   "metadata": {},
   "source": [
    "Q6. You are working on a machine learning project with a dataset containing several categorical\n",
    "variables, including \"Gender\" (Male/Female), \"Education Level\" (High School/Bachelor's/Master's/PhD),\n",
    "and \"Employment Status\" (Unemployed/Part-Time/Full-Time). Which encoding method would you use for\n",
    "each variable, and why?"
   ]
  },
  {
   "cell_type": "code",
   "execution_count": 32,
   "id": "6e95ab3f-031d-4341-9ffd-7a63afd471c9",
   "metadata": {},
   "outputs": [],
   "source": [
    "## For Gender I will use Binary encoding (0 and 1) as only 2 values are there,\n",
    "## Education Level : I wil use ordinal Encoding as it has order/rank - (High School-1/Bachelor's-2/Master's-3/PhD-4)\n",
    "## Employement Status: I will use  one hot encoding  as they are not in any rank/order(Unemployed-'1 0 0'/Part-Time-'0 1 0'/Full-Time-'0 0 1')"
   ]
  },
  {
   "cell_type": "markdown",
   "id": "d6b1cb34-68f6-49f8-81d3-498d72552597",
   "metadata": {},
   "source": [
    "Q7. You are analyzing a dataset with two continuous variables, \"Temperature\" and \"Humidity\", and two\n",
    "categorical variables, \"Weather Condition\" (Sunny/Cloudy/Rainy) and \"Wind Direction\" (North/South/\n",
    "East/West). Calculate the covariance between each pair of variables and interpret the results."
   ]
  },
  {
   "cell_type": "code",
   "execution_count": 33,
   "id": "806db2e4-a7d8-4ec7-bb4e-618c5959e4c7",
   "metadata": {},
   "outputs": [],
   "source": [
    "df_weather=pd.DataFrame({\"Temperature\":[26,25,28,30,27,26],\"Humidity\":[41,50,61,70,23,35],\"Weather Condition\":['sunny','rainy','cloudy','rainy','sunny','cloudy'],\"Wind Direction\":['south','north','south','east','west','east']})"
   ]
  },
  {
   "cell_type": "code",
   "execution_count": 34,
   "id": "5c47d33d-fe23-477d-b6c7-406c1c4284b8",
   "metadata": {},
   "outputs": [
    {
     "data": {
      "text/html": [
       "<div>\n",
       "<style scoped>\n",
       "    .dataframe tbody tr th:only-of-type {\n",
       "        vertical-align: middle;\n",
       "    }\n",
       "\n",
       "    .dataframe tbody tr th {\n",
       "        vertical-align: top;\n",
       "    }\n",
       "\n",
       "    .dataframe thead th {\n",
       "        text-align: right;\n",
       "    }\n",
       "</style>\n",
       "<table border=\"1\" class=\"dataframe\">\n",
       "  <thead>\n",
       "    <tr style=\"text-align: right;\">\n",
       "      <th></th>\n",
       "      <th>Temperature</th>\n",
       "      <th>Humidity</th>\n",
       "      <th>Weather Condition</th>\n",
       "      <th>Wind Direction</th>\n",
       "    </tr>\n",
       "  </thead>\n",
       "  <tbody>\n",
       "    <tr>\n",
       "      <th>0</th>\n",
       "      <td>26</td>\n",
       "      <td>41</td>\n",
       "      <td>sunny</td>\n",
       "      <td>south</td>\n",
       "    </tr>\n",
       "    <tr>\n",
       "      <th>1</th>\n",
       "      <td>25</td>\n",
       "      <td>50</td>\n",
       "      <td>rainy</td>\n",
       "      <td>north</td>\n",
       "    </tr>\n",
       "    <tr>\n",
       "      <th>2</th>\n",
       "      <td>28</td>\n",
       "      <td>61</td>\n",
       "      <td>cloudy</td>\n",
       "      <td>south</td>\n",
       "    </tr>\n",
       "    <tr>\n",
       "      <th>3</th>\n",
       "      <td>30</td>\n",
       "      <td>70</td>\n",
       "      <td>rainy</td>\n",
       "      <td>east</td>\n",
       "    </tr>\n",
       "    <tr>\n",
       "      <th>4</th>\n",
       "      <td>27</td>\n",
       "      <td>23</td>\n",
       "      <td>sunny</td>\n",
       "      <td>west</td>\n",
       "    </tr>\n",
       "    <tr>\n",
       "      <th>5</th>\n",
       "      <td>26</td>\n",
       "      <td>35</td>\n",
       "      <td>cloudy</td>\n",
       "      <td>east</td>\n",
       "    </tr>\n",
       "  </tbody>\n",
       "</table>\n",
       "</div>"
      ],
      "text/plain": [
       "   Temperature  Humidity Weather Condition Wind Direction\n",
       "0           26        41             sunny          south\n",
       "1           25        50             rainy          north\n",
       "2           28        61            cloudy          south\n",
       "3           30        70             rainy           east\n",
       "4           27        23             sunny           west\n",
       "5           26        35            cloudy           east"
      ]
     },
     "execution_count": 34,
     "metadata": {},
     "output_type": "execute_result"
    }
   ],
   "source": [
    "df_weather"
   ]
  },
  {
   "cell_type": "code",
   "execution_count": 35,
   "id": "63946867-d4b0-4aff-8e60-2d253ab359f3",
   "metadata": {},
   "outputs": [
    {
     "name": "stderr",
     "output_type": "stream",
     "text": [
      "/tmp/ipykernel_1652/2177171377.py:1: FutureWarning: The default value of numeric_only in DataFrame.cov is deprecated. In a future version, it will default to False. Select only valid columns or specify the value of numeric_only to silence this warning.\n",
      "  df_weather.cov()\n"
     ]
    },
    {
     "data": {
      "text/html": [
       "<div>\n",
       "<style scoped>\n",
       "    .dataframe tbody tr th:only-of-type {\n",
       "        vertical-align: middle;\n",
       "    }\n",
       "\n",
       "    .dataframe tbody tr th {\n",
       "        vertical-align: top;\n",
       "    }\n",
       "\n",
       "    .dataframe thead th {\n",
       "        text-align: right;\n",
       "    }\n",
       "</style>\n",
       "<table border=\"1\" class=\"dataframe\">\n",
       "  <thead>\n",
       "    <tr style=\"text-align: right;\">\n",
       "      <th></th>\n",
       "      <th>Temperature</th>\n",
       "      <th>Humidity</th>\n",
       "    </tr>\n",
       "  </thead>\n",
       "  <tbody>\n",
       "    <tr>\n",
       "      <th>Temperature</th>\n",
       "      <td>3.2</td>\n",
       "      <td>19.000000</td>\n",
       "    </tr>\n",
       "    <tr>\n",
       "      <th>Humidity</th>\n",
       "      <td>19.0</td>\n",
       "      <td>297.866667</td>\n",
       "    </tr>\n",
       "  </tbody>\n",
       "</table>\n",
       "</div>"
      ],
      "text/plain": [
       "             Temperature    Humidity\n",
       "Temperature          3.2   19.000000\n",
       "Humidity            19.0  297.866667"
      ]
     },
     "execution_count": 35,
     "metadata": {},
     "output_type": "execute_result"
    }
   ],
   "source": [
    "df_weather.cov()"
   ]
  },
  {
   "cell_type": "code",
   "execution_count": 36,
   "id": "7bd382a3-cb1a-4942-86e1-9b701fb45428",
   "metadata": {},
   "outputs": [],
   "source": [
    "# convert categories to numeric"
   ]
  },
  {
   "cell_type": "code",
   "execution_count": 37,
   "id": "54409219-2070-4c1a-b142-fda8de9356b5",
   "metadata": {},
   "outputs": [],
   "source": [
    "df_weather['Weather Condition']=df_weather[['Weather Condition']].apply(le.fit_transform)"
   ]
  },
  {
   "cell_type": "code",
   "execution_count": 38,
   "id": "60adc0d0-0710-4f6e-b203-7daee9bba158",
   "metadata": {},
   "outputs": [],
   "source": [
    "df_weather[['Wind Direction']]=df_weather[['Wind Direction']].apply(le.fit_transform)"
   ]
  },
  {
   "cell_type": "code",
   "execution_count": 39,
   "id": "2dfbb73e-834a-48c0-905d-aeefa82316c3",
   "metadata": {},
   "outputs": [
    {
     "data": {
      "text/html": [
       "<div>\n",
       "<style scoped>\n",
       "    .dataframe tbody tr th:only-of-type {\n",
       "        vertical-align: middle;\n",
       "    }\n",
       "\n",
       "    .dataframe tbody tr th {\n",
       "        vertical-align: top;\n",
       "    }\n",
       "\n",
       "    .dataframe thead th {\n",
       "        text-align: right;\n",
       "    }\n",
       "</style>\n",
       "<table border=\"1\" class=\"dataframe\">\n",
       "  <thead>\n",
       "    <tr style=\"text-align: right;\">\n",
       "      <th></th>\n",
       "      <th>Temperature</th>\n",
       "      <th>Humidity</th>\n",
       "      <th>Weather Condition</th>\n",
       "      <th>Wind Direction</th>\n",
       "    </tr>\n",
       "  </thead>\n",
       "  <tbody>\n",
       "    <tr>\n",
       "      <th>0</th>\n",
       "      <td>26</td>\n",
       "      <td>41</td>\n",
       "      <td>2</td>\n",
       "      <td>2</td>\n",
       "    </tr>\n",
       "    <tr>\n",
       "      <th>1</th>\n",
       "      <td>25</td>\n",
       "      <td>50</td>\n",
       "      <td>1</td>\n",
       "      <td>1</td>\n",
       "    </tr>\n",
       "    <tr>\n",
       "      <th>2</th>\n",
       "      <td>28</td>\n",
       "      <td>61</td>\n",
       "      <td>0</td>\n",
       "      <td>2</td>\n",
       "    </tr>\n",
       "    <tr>\n",
       "      <th>3</th>\n",
       "      <td>30</td>\n",
       "      <td>70</td>\n",
       "      <td>1</td>\n",
       "      <td>0</td>\n",
       "    </tr>\n",
       "    <tr>\n",
       "      <th>4</th>\n",
       "      <td>27</td>\n",
       "      <td>23</td>\n",
       "      <td>2</td>\n",
       "      <td>3</td>\n",
       "    </tr>\n",
       "    <tr>\n",
       "      <th>5</th>\n",
       "      <td>26</td>\n",
       "      <td>35</td>\n",
       "      <td>0</td>\n",
       "      <td>0</td>\n",
       "    </tr>\n",
       "  </tbody>\n",
       "</table>\n",
       "</div>"
      ],
      "text/plain": [
       "   Temperature  Humidity  Weather Condition  Wind Direction\n",
       "0           26        41                  2               2\n",
       "1           25        50                  1               1\n",
       "2           28        61                  0               2\n",
       "3           30        70                  1               0\n",
       "4           27        23                  2               3\n",
       "5           26        35                  0               0"
      ]
     },
     "execution_count": 39,
     "metadata": {},
     "output_type": "execute_result"
    }
   ],
   "source": [
    "df_weather"
   ]
  },
  {
   "cell_type": "code",
   "execution_count": 40,
   "id": "1a912b75-bd18-4cea-9a19-be11930497cf",
   "metadata": {},
   "outputs": [
    {
     "data": {
      "text/html": [
       "<div>\n",
       "<style scoped>\n",
       "    .dataframe tbody tr th:only-of-type {\n",
       "        vertical-align: middle;\n",
       "    }\n",
       "\n",
       "    .dataframe tbody tr th {\n",
       "        vertical-align: top;\n",
       "    }\n",
       "\n",
       "    .dataframe thead th {\n",
       "        text-align: right;\n",
       "    }\n",
       "</style>\n",
       "<table border=\"1\" class=\"dataframe\">\n",
       "  <thead>\n",
       "    <tr style=\"text-align: right;\">\n",
       "      <th></th>\n",
       "      <th>Temperature</th>\n",
       "      <th>Humidity</th>\n",
       "      <th>Weather Condition</th>\n",
       "      <th>Wind Direction</th>\n",
       "    </tr>\n",
       "  </thead>\n",
       "  <tbody>\n",
       "    <tr>\n",
       "      <th>Temperature</th>\n",
       "      <td>3.2</td>\n",
       "      <td>19.000000</td>\n",
       "      <td>-0.2</td>\n",
       "      <td>-0.400000</td>\n",
       "    </tr>\n",
       "    <tr>\n",
       "      <th>Humidity</th>\n",
       "      <td>19.0</td>\n",
       "      <td>297.866667</td>\n",
       "      <td>-6.4</td>\n",
       "      <td>-10.066667</td>\n",
       "    </tr>\n",
       "    <tr>\n",
       "      <th>Weather Condition</th>\n",
       "      <td>-0.2</td>\n",
       "      <td>-6.400000</td>\n",
       "      <td>0.8</td>\n",
       "      <td>0.600000</td>\n",
       "    </tr>\n",
       "    <tr>\n",
       "      <th>Wind Direction</th>\n",
       "      <td>-0.4</td>\n",
       "      <td>-10.066667</td>\n",
       "      <td>0.6</td>\n",
       "      <td>1.466667</td>\n",
       "    </tr>\n",
       "  </tbody>\n",
       "</table>\n",
       "</div>"
      ],
      "text/plain": [
       "                   Temperature    Humidity  Weather Condition  Wind Direction\n",
       "Temperature                3.2   19.000000               -0.2       -0.400000\n",
       "Humidity                  19.0  297.866667               -6.4      -10.066667\n",
       "Weather Condition         -0.2   -6.400000                0.8        0.600000\n",
       "Wind Direction            -0.4  -10.066667                0.6        1.466667"
      ]
     },
     "execution_count": 40,
     "metadata": {},
     "output_type": "execute_result"
    }
   ],
   "source": [
    "df_weather.cov()"
   ]
  },
  {
   "cell_type": "code",
   "execution_count": 41,
   "id": "1d7d33bd-0b08-4660-b399-aefc55e2625c",
   "metadata": {},
   "outputs": [],
   "source": [
    "## Temperature and Humidity are high postively Covariance"
   ]
  },
  {
   "cell_type": "code",
   "execution_count": 42,
   "id": "d2b6323e-9582-4d5c-86d3-f3c8328c30b7",
   "metadata": {},
   "outputs": [],
   "source": [
    "## Temperature and Weather Condition has least -ve covariance "
   ]
  },
  {
   "cell_type": "code",
   "execution_count": 43,
   "id": "05999542-f768-48ba-9b4d-fc2ce7a65f5a",
   "metadata": {},
   "outputs": [],
   "source": [
    "## Temperature and Wind direction has less -ve covariancE"
   ]
  },
  {
   "cell_type": "code",
   "execution_count": 44,
   "id": "b4b25bc1-e692-475c-9ebf-073ab79b2a14",
   "metadata": {},
   "outputs": [],
   "source": [
    "## Humidity and Weather Condition has -ve covar"
   ]
  },
  {
   "cell_type": "code",
   "execution_count": 45,
   "id": "98ebd5b8-e3de-4474-a9f9-5f8b36513012",
   "metadata": {},
   "outputs": [],
   "source": [
    "# Humidity and Wind Direction has -ve Covariance"
   ]
  },
  {
   "cell_type": "code",
   "execution_count": 46,
   "id": "515ed473-30e1-4efc-a103-bbe1cb2fc500",
   "metadata": {},
   "outputs": [],
   "source": [
    "## Wind direction and Weather Conditon is positive covariance"
   ]
  },
  {
   "cell_type": "code",
   "execution_count": null,
   "id": "64b8d4cc-00df-4212-a2bc-5b37f7638a1e",
   "metadata": {},
   "outputs": [],
   "source": []
  }
 ],
 "metadata": {
  "kernelspec": {
   "display_name": "Python 3 (ipykernel)",
   "language": "python",
   "name": "python3"
  },
  "language_info": {
   "codemirror_mode": {
    "name": "ipython",
    "version": 3
   },
   "file_extension": ".py",
   "mimetype": "text/x-python",
   "name": "python",
   "nbconvert_exporter": "python",
   "pygments_lexer": "ipython3",
   "version": "3.10.8"
  }
 },
 "nbformat": 4,
 "nbformat_minor": 5
}
